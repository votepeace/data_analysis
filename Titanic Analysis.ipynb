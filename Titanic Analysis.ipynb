{
  "cells": [
    {
      "cell_type": "markdown",
      "source": [
        "### Peace Choi's analysis of Titanic data: \n",
        "\n",
        "I imported following Python libraries: NumPy, Pandas, Matplotlib.pyplot, and Seaborn. I imported a titanic csv file and made a Pandas DataFrame. I cleaned the data by removing unnecessary columns, correcting name of a misspelled column, and replacing NA values in all columns with the mean value of the corresponding column, as appropriate.  \n",
        "\n",
        "Most of the passengers were in 20s and 30s, and in the age group there were about 250 males and 100 females. Both male and female passengers had a similar trend to their cost of fares; negatively skewed graphs confirmed the vast majority of passengers paid 50 or less. The survival rate of males is 13% while that of females is 50%; females had a higher survive rate than males. \n",
        "\n",
        "For the rate of passengers per class and their survival rates by the class, the 3rd class had the majority of passengers of 54% while the 1st and 2nd class had about the same percentage of passengers, 25% and 21%, respectively. The passengers' survival rates had a strong positive correlation with the passengers' class; the passengers in the first class had the highest survival rates of $42% versus the passengers in the second class had the next highest survival rates of 31%, while the passengers in the third class had the lowest survival rates of 17%.\n",
        "\n",
        "People who were accompanied by their parents and/or siblings had higher survival rates than people who were alone (34% vs. 20%).\n",
        "\n",
        "~94% of passengers purchased cheapest fares under 100; ~4% purchased fares between 100 to 200; ~2% purchased fares between 200 to 300; and less than 1% purchased the most expensive fares costing over 500.   \n",
        "\n",
        "There is no correlation between the fares and ports. There is no correlation between the people who are travelling alone and the passengers' class. To find survival rates by both the gender and the age, I first categorized passengers' age as following: older than or equal to 65 as old, between 25 years and 65 as middle age, younger than 25 as young. The middle age female group had the most number of survivors, 148, while the old female group had the least number of survivors, 0. The minimum age of the passengers was less than a year old, the oldest age was 80, and the average age was 30.\n",
        "\n"
      ],
      "metadata": {
        "noteable": {
          "cell_type": "markdown"
        }
      },
      "id": "0889c49a-79ae-4905-b39c-6d23aa31a264"
    },
    {
      "cell_type": "code",
      "source": [
        "\n",
        "#Import libraries and apply pandas dataframe to the data\n",
        "import numpy as npz\n",
        "import pandas as pd\n",
        "import matplotlib.pyplot as plt\n",
        "import seaborn as sns\n",
        "df=pd.read_csv('train_and_test2.csv') \n",
        "\n",
        "#Quick glance of the data\n",
        "print (df.info()) \n",
        "print (df.describe())"
      ],
      "outputs": [
        {
          "output_type": "stream",
          "name": "stdout",
          "text": [
            "<class 'pandas.core.frame.DataFrame'>\n",
            "RangeIndex: 1309 entries, 0 to 1308\n",
            "Data columns (total 28 columns):\n",
            " #   Column       Non-Null Count  Dtype  \n",
            "---  ------       --------------  -----  \n",
            " 0   Passengerid  1309 non-null   int64  \n",
            " 1   Age          1309 non-null   float64\n",
            " 2   Fare         1309 non-null   float64\n",
            " 3   Sex          1309 non-null   int64  \n",
            " 4   sibsp        1309 non-null   int64  \n",
            " 5   zero         1309 non-null   int64  \n",
            " 6   zero.1       1309 non-null   int64  \n",
            " 7   zero.2       1309 non-null   int64  \n",
            " 8   zero.3       1309 non-null   int64  \n",
            " 9   zero.4       1309 non-null   int64  \n",
            " 10  zero.5       1309 non-null   int64  \n",
            " 11  zero.6       1309 non-null   int64  \n",
            " 12  Parch        1309 non-null   int64  \n",
            " 13  zero.7       1309 non-null   int64  \n",
            " 14  zero.8       1309 non-null   int64  \n",
            " 15  zero.9       1309 non-null   int64  \n",
            " 16  zero.10      1309 non-null   int64  \n",
            " 17  zero.11      1309 non-null   int64  \n",
            " 18  zero.12      1309 non-null   int64  \n",
            " 19  zero.13      1309 non-null   int64  \n",
            " 20  zero.14      1309 non-null   int64  \n",
            " 21  Pclass       1309 non-null   int64  \n",
            " 22  zero.15      1309 non-null   int64  \n",
            " 23  zero.16      1309 non-null   int64  \n",
            " 24  Embarked     1307 non-null   float64\n",
            " 25  zero.17      1309 non-null   int64  \n",
            " 26  zero.18      1309 non-null   int64  \n",
            " 27  2urvived     1309 non-null   int64  \n",
            "dtypes: float64(3), int64(25)\n",
            "memory usage: 286.5 KB\n",
            "None\n",
            "       Passengerid          Age         Fare          Sex        sibsp  \\\n",
            "count  1309.000000  1309.000000  1309.000000  1309.000000  1309.000000   \n",
            "mean    655.000000    29.503186    33.281086     0.355997     0.498854   \n",
            "std     378.020061    12.905241    51.741500     0.478997     1.041658   \n",
            "min       1.000000     0.170000     0.000000     0.000000     0.000000   \n",
            "25%     328.000000    22.000000     7.895800     0.000000     0.000000   \n",
            "50%     655.000000    28.000000    14.454200     0.000000     0.000000   \n",
            "75%     982.000000    35.000000    31.275000     1.000000     1.000000   \n",
            "max    1309.000000    80.000000   512.329200     1.000000     8.000000   \n",
            "\n",
            "         zero  zero.1  zero.2  zero.3  zero.4  zero.5  zero.6        Parch  \\\n",
            "count  1309.0  1309.0  1309.0  1309.0  1309.0  1309.0  1309.0  1309.000000   \n",
            "mean      0.0     0.0     0.0     0.0     0.0     0.0     0.0     0.385027   \n",
            "std       0.0     0.0     0.0     0.0     0.0     0.0     0.0     0.865560   \n",
            "min       0.0     0.0     0.0     0.0     0.0     0.0     0.0     0.000000   \n",
            "25%       0.0     0.0     0.0     0.0     0.0     0.0     0.0     0.000000   \n",
            "50%       0.0     0.0     0.0     0.0     0.0     0.0     0.0     0.000000   \n",
            "75%       0.0     0.0     0.0     0.0     0.0     0.0     0.0     0.000000   \n",
            "max       0.0     0.0     0.0     0.0     0.0     0.0     0.0     9.000000   \n",
            "\n",
            "       zero.7  zero.8  zero.9  zero.10  zero.11  zero.12  zero.13  zero.14  \\\n",
            "count  1309.0  1309.0  1309.0   1309.0   1309.0   1309.0   1309.0   1309.0   \n",
            "mean      0.0     0.0     0.0      0.0      0.0      0.0      0.0      0.0   \n",
            "std       0.0     0.0     0.0      0.0      0.0      0.0      0.0      0.0   \n",
            "min       0.0     0.0     0.0      0.0      0.0      0.0      0.0      0.0   \n",
            "25%       0.0     0.0     0.0      0.0      0.0      0.0      0.0      0.0   \n",
            "50%       0.0     0.0     0.0      0.0      0.0      0.0      0.0      0.0   \n",
            "75%       0.0     0.0     0.0      0.0      0.0      0.0      0.0      0.0   \n",
            "max       0.0     0.0     0.0      0.0      0.0      0.0      0.0      0.0   \n",
            "\n",
            "            Pclass  zero.15  zero.16     Embarked  zero.17  zero.18  \\\n",
            "count  1309.000000   1309.0   1309.0  1307.000000   1309.0   1309.0   \n",
            "mean      2.294882      0.0      0.0     1.492731      0.0      0.0   \n",
            "std       0.837836      0.0      0.0     0.814626      0.0      0.0   \n",
            "min       1.000000      0.0      0.0     0.000000      0.0      0.0   \n",
            "25%       2.000000      0.0      0.0     1.000000      0.0      0.0   \n",
            "50%       3.000000      0.0      0.0     2.000000      0.0      0.0   \n",
            "75%       3.000000      0.0      0.0     2.000000      0.0      0.0   \n",
            "max       3.000000      0.0      0.0     2.000000      0.0      0.0   \n",
            "\n",
            "          2urvived  \n",
            "count  1309.000000  \n",
            "mean      0.261268  \n",
            "std       0.439494  \n",
            "min       0.000000  \n",
            "25%       0.000000  \n",
            "50%       0.000000  \n",
            "75%       1.000000  \n",
            "max       1.000000  \n"
          ]
        }
      ],
      "execution_count": null,
      "metadata": {
        "noteable": {},
        "ExecuteTime": {
          "start_time": "2023-09-10T21:00:54.196699+00:00",
          "end_time": "2023-09-10T21:00:54.406720+00:00"
        },
        "jupyter": {
          "source_hidden": false,
          "outputs_hidden": false
        },
        "tags": [
          "show_line_numbers"
        ],
        "datalink": {
          "78c9faa6-a228-4f1c-a96a-c5074d62489d": {
            "applied_filters": [],
            "dataframe_info": {
              "default_index_used": false,
              "orig_num_cols": 28,
              "orig_num_rows": 8,
              "orig_size_bytes": 1856,
              "truncated_num_cols": 28,
              "truncated_num_rows": 8,
              "truncated_size_bytes": 1856,
              "truncated_string_columns": []
            },
            "display_id": "78c9faa6-a228-4f1c-a96a-c5074d62489d",
            "dx_settings": {
              "ALLOW_NOTEABLE_ATTRS": true,
              "COLUMN_SAMPLING_METHOD": "outer",
              "DB_LOCATION": ":memory:",
              "DEV_MODE": false,
              "DISPLAY_MAX_COLUMNS": 100,
              "DISPLAY_MAX_ROWS": 50000,
              "DISPLAY_MODE": "simple",
              "ENABLE_ASSIGNMENT": true,
              "ENABLE_DATALINK": true,
              "FLATTEN_COLUMN_VALUES": true,
              "FLATTEN_INDEX_VALUES": false,
              "GENERATE_DEX_METADATA": false,
              "HTML_TABLE_SCHEMA": false,
              "LOG_LEVEL": 30,
              "MAX_RENDER_SIZE_BYTES": 104857600,
              "MAX_STRING_LENGTH": 250,
              "NUM_PAST_SAMPLES_TRACKED": 3,
              "RANDOM_STATE": 12648430,
              "RESET_INDEX_VALUES": false,
              "ROW_SAMPLING_METHOD": "random",
              "SAMPLING_FACTOR": 0.1,
              "SAMPLING_METHOD": "random",
              "STRINGIFY_COLUMN_VALUES": true,
              "STRINGIFY_INDEX_VALUES": false
            },
            "sample_history": [],
            "sampling_time": "2023-09-08T17:42:23.383131",
            "user_variable_name": null,
            "variable_name": "unk_dataframe_cb8d71198cff463aa5510210b9a9425f"
          }
        }
      },
      "id": "9a151c35"
    },
    {
      "cell_type": "markdown",
      "source": [
        "## Source of Tiantic.csv: [kaggle](https://www.kaggle.com/datasets?search=titanic)\n",
        "\n",
        "Creator of the titantic.csv file: Khashayar Baghizadeh Hosseini\n",
        "\n",
        "## Data cleaning: \n",
        "Remove multiple uncessary columns:\n",
        "1. Remove columns with name 'zero' in it because they contain 0s. \n",
        "2. Change name of column '2urvived' to 'Survived'\n",
        "3. Check for null or NaN values in columns. Either ignore, drop, or replace those. "
      ],
      "metadata": {
        "noteable": {
          "cell_type": "markdown"
        },
        "tags": [
          "show_line_numbers"
        ]
      },
      "id": "c06b9fb4-4555-48bf-9878-ed5e451a9829"
    },
    {
      "cell_type": "code",
      "source": [
        "#1. Remove columns with name 'zero' in it:\n",
        "zero_columns = [col for col in df.columns if 'zero' in col] #list of columns w/ 'zero'\n",
        "df.drop(columns = zero_columns, inplace = True) #drop the list of columns named 'zero' \n",
        "assert 'zero' not in df.columns, 'There are still columns named zero' \n",
        "\n",
        "#2. Change name of column '2urvived' to 'Survived'\n",
        "df.rename(columns = {'2urvived':'Survived'}, inplace = True) #rename the column\n",
        "assert '2urvived' not in df.columns, 'There is still a column named 2urvived'\n",
        "assert 'Survived' in df.columns, 'There is a column named survived' \n",
        "\n",
        "#3. Check for null or NaN values in columns. Either ignore, drop, or replace those.\n",
        "df.Embarked.fillna(2,inplace=True) #replace NaN in Embarked column with 2\n",
        "assert df.Embarked.isnull().sum()==0, 'There is still NaN in column Embarked'"
      ],
      "outputs": [],
      "execution_count": null,
      "metadata": {
        "jupyter": {
          "outputs_hidden": false,
          "source_hidden": false
        },
        "noteable": {
          "cell_type": "code"
        },
        "ExecuteTime": {
          "start_time": "2023-09-10T21:00:55.499822+00:00",
          "end_time": "2023-09-10T21:00:55.658014+00:00"
        },
        "datalink": {
          "c6dbfcd1-f7c3-4169-8a0f-53e09b9afeed": {
            "applied_filters": [],
            "dataframe_info": {
              "default_index_used": true,
              "orig_num_cols": 28,
              "orig_num_rows": 5,
              "orig_size_bytes": 1160,
              "truncated_num_cols": 28,
              "truncated_num_rows": 5,
              "truncated_size_bytes": 1160,
              "truncated_string_columns": []
            },
            "display_id": "c6dbfcd1-f7c3-4169-8a0f-53e09b9afeed",
            "dx_settings": {
              "ALLOW_NOTEABLE_ATTRS": true,
              "COLUMN_SAMPLING_METHOD": "outer",
              "DB_LOCATION": ":memory:",
              "DEV_MODE": false,
              "DISPLAY_MAX_COLUMNS": 100,
              "DISPLAY_MAX_ROWS": 50000,
              "DISPLAY_MODE": "simple",
              "ENABLE_ASSIGNMENT": true,
              "ENABLE_DATALINK": true,
              "FLATTEN_COLUMN_VALUES": true,
              "FLATTEN_INDEX_VALUES": false,
              "GENERATE_DEX_METADATA": false,
              "HTML_TABLE_SCHEMA": false,
              "LOG_LEVEL": 30,
              "MAX_RENDER_SIZE_BYTES": 104857600,
              "MAX_STRING_LENGTH": 250,
              "NUM_PAST_SAMPLES_TRACKED": 3,
              "RANDOM_STATE": 12648430,
              "RESET_INDEX_VALUES": false,
              "ROW_SAMPLING_METHOD": "random",
              "SAMPLING_FACTOR": 0.1,
              "SAMPLING_METHOD": "random",
              "STRINGIFY_COLUMN_VALUES": true,
              "STRINGIFY_INDEX_VALUES": false
            },
            "sample_history": [],
            "sampling_time": "2023-08-19T19:06:56.057319",
            "user_variable_name": null,
            "variable_name": "unk_dataframe_406f69fa36924076b2f5b57f304cf142"
          },
          "2cc5cee1-2243-4532-9a19-555acc40257f": {
            "applied_filters": [],
            "dataframe_info": {
              "default_index_used": true,
              "orig_num_cols": 28,
              "orig_num_rows": 5,
              "orig_size_bytes": 1160,
              "truncated_num_cols": 28,
              "truncated_num_rows": 5,
              "truncated_size_bytes": 1160,
              "truncated_string_columns": []
            },
            "display_id": "2cc5cee1-2243-4532-9a19-555acc40257f",
            "dx_settings": {
              "ALLOW_NOTEABLE_ATTRS": true,
              "COLUMN_SAMPLING_METHOD": "outer",
              "DB_LOCATION": ":memory:",
              "DEV_MODE": false,
              "DISPLAY_MAX_COLUMNS": 100,
              "DISPLAY_MAX_ROWS": 50000,
              "DISPLAY_MODE": "simple",
              "ENABLE_ASSIGNMENT": true,
              "ENABLE_DATALINK": true,
              "FLATTEN_COLUMN_VALUES": true,
              "FLATTEN_INDEX_VALUES": false,
              "GENERATE_DEX_METADATA": false,
              "HTML_TABLE_SCHEMA": false,
              "LOG_LEVEL": 30,
              "MAX_RENDER_SIZE_BYTES": 104857600,
              "MAX_STRING_LENGTH": 250,
              "NUM_PAST_SAMPLES_TRACKED": 3,
              "RANDOM_STATE": 12648430,
              "RESET_INDEX_VALUES": false,
              "ROW_SAMPLING_METHOD": "random",
              "SAMPLING_FACTOR": 0.1,
              "SAMPLING_METHOD": "random",
              "STRINGIFY_COLUMN_VALUES": true,
              "STRINGIFY_INDEX_VALUES": false
            },
            "sample_history": [],
            "sampling_time": "2023-08-19T19:07:01.234450",
            "user_variable_name": null,
            "variable_name": "unk_dataframe_29b2e045df8a4939b7757a592de58b27"
          },
          "ba66f590-87f0-45f9-b79d-b2f15b2bd125": {
            "applied_filters": [],
            "dataframe_info": {
              "default_index_used": true,
              "orig_num_cols": 9,
              "orig_num_rows": 1309,
              "orig_size_bytes": 104720,
              "truncated_num_cols": 9,
              "truncated_num_rows": 1309,
              "truncated_size_bytes": 104720,
              "truncated_string_columns": []
            },
            "display_id": "ba66f590-87f0-45f9-b79d-b2f15b2bd125",
            "dx_settings": {
              "ALLOW_NOTEABLE_ATTRS": true,
              "COLUMN_SAMPLING_METHOD": "outer",
              "DB_LOCATION": ":memory:",
              "DEV_MODE": false,
              "DISPLAY_MAX_COLUMNS": 100,
              "DISPLAY_MAX_ROWS": 50000,
              "DISPLAY_MODE": "simple",
              "ENABLE_ASSIGNMENT": true,
              "ENABLE_DATALINK": true,
              "FLATTEN_COLUMN_VALUES": true,
              "FLATTEN_INDEX_VALUES": false,
              "GENERATE_DEX_METADATA": false,
              "HTML_TABLE_SCHEMA": false,
              "LOG_LEVEL": 30,
              "MAX_RENDER_SIZE_BYTES": 104857600,
              "MAX_STRING_LENGTH": 250,
              "NUM_PAST_SAMPLES_TRACKED": 3,
              "RANDOM_STATE": 12648430,
              "RESET_INDEX_VALUES": false,
              "ROW_SAMPLING_METHOD": "random",
              "SAMPLING_FACTOR": 0.1,
              "SAMPLING_METHOD": "random",
              "STRINGIFY_COLUMN_VALUES": true,
              "STRINGIFY_INDEX_VALUES": false
            },
            "sample_history": [],
            "sampling_time": "2023-08-19T19:15:10.092083",
            "user_variable_name": "df",
            "variable_name": "df"
          },
          "4b372272-5672-42d2-81a9-e611c766ceab": {
            "applied_filters": [],
            "dataframe_info": {
              "default_index_used": true,
              "orig_num_cols": 9,
              "orig_num_rows": 1309,
              "orig_size_bytes": 104720,
              "truncated_num_cols": 9,
              "truncated_num_rows": 1309,
              "truncated_size_bytes": 104720,
              "truncated_string_columns": []
            },
            "display_id": "4b372272-5672-42d2-81a9-e611c766ceab",
            "dx_settings": {
              "ALLOW_NOTEABLE_ATTRS": true,
              "COLUMN_SAMPLING_METHOD": "outer",
              "DB_LOCATION": ":memory:",
              "DEV_MODE": false,
              "DISPLAY_MAX_COLUMNS": 100,
              "DISPLAY_MAX_ROWS": 50000,
              "DISPLAY_MODE": "simple",
              "ENABLE_ASSIGNMENT": true,
              "ENABLE_DATALINK": true,
              "FLATTEN_COLUMN_VALUES": true,
              "FLATTEN_INDEX_VALUES": false,
              "GENERATE_DEX_METADATA": false,
              "HTML_TABLE_SCHEMA": false,
              "LOG_LEVEL": 30,
              "MAX_RENDER_SIZE_BYTES": 104857600,
              "MAX_STRING_LENGTH": 250,
              "NUM_PAST_SAMPLES_TRACKED": 3,
              "RANDOM_STATE": 12648430,
              "RESET_INDEX_VALUES": false,
              "ROW_SAMPLING_METHOD": "random",
              "SAMPLING_FACTOR": 0.1,
              "SAMPLING_METHOD": "random",
              "STRINGIFY_COLUMN_VALUES": true,
              "STRINGIFY_INDEX_VALUES": false
            },
            "sample_history": [],
            "sampling_time": "2023-08-19T19:32:37.408344",
            "user_variable_name": "df",
            "variable_name": "df"
          },
          "21dea416-3eb0-4448-a127-61e84485ffc6": {
            "applied_filters": [],
            "dataframe_info": {
              "default_index_used": false,
              "orig_num_cols": 1,
              "orig_num_rows": 9,
              "orig_size_bytes": 144,
              "truncated_num_cols": 1,
              "truncated_num_rows": 9,
              "truncated_size_bytes": 144,
              "truncated_string_columns": []
            },
            "display_id": "21dea416-3eb0-4448-a127-61e84485ffc6",
            "dx_settings": {
              "ALLOW_NOTEABLE_ATTRS": true,
              "COLUMN_SAMPLING_METHOD": "outer",
              "DB_LOCATION": ":memory:",
              "DEV_MODE": false,
              "DISPLAY_MAX_COLUMNS": 100,
              "DISPLAY_MAX_ROWS": 50000,
              "DISPLAY_MODE": "simple",
              "ENABLE_ASSIGNMENT": true,
              "ENABLE_DATALINK": true,
              "FLATTEN_COLUMN_VALUES": true,
              "FLATTEN_INDEX_VALUES": false,
              "GENERATE_DEX_METADATA": false,
              "HTML_TABLE_SCHEMA": false,
              "LOG_LEVEL": 30,
              "MAX_RENDER_SIZE_BYTES": 104857600,
              "MAX_STRING_LENGTH": 250,
              "NUM_PAST_SAMPLES_TRACKED": 3,
              "RANDOM_STATE": 12648430,
              "RESET_INDEX_VALUES": false,
              "ROW_SAMPLING_METHOD": "random",
              "SAMPLING_FACTOR": 0.1,
              "SAMPLING_METHOD": "random",
              "STRINGIFY_COLUMN_VALUES": true,
              "STRINGIFY_INDEX_VALUES": false
            },
            "sample_history": [],
            "sampling_time": "2023-08-19T20:05:05.355561",
            "user_variable_name": null,
            "variable_name": "unk_dataframe_4ade5474903b48d999fa5d74737cf54b"
          },
          "34165d89-5516-4c6e-9700-cf05840467b4": {
            "applied_filters": [],
            "dataframe_info": {
              "default_index_used": false,
              "orig_num_cols": 1,
              "orig_num_rows": 8,
              "orig_size_bytes": 128,
              "truncated_num_cols": 1,
              "truncated_num_rows": 8,
              "truncated_size_bytes": 128,
              "truncated_string_columns": []
            },
            "display_id": "34165d89-5516-4c6e-9700-cf05840467b4",
            "dx_settings": {
              "ALLOW_NOTEABLE_ATTRS": true,
              "COLUMN_SAMPLING_METHOD": "outer",
              "DB_LOCATION": ":memory:",
              "DEV_MODE": false,
              "DISPLAY_MAX_COLUMNS": 100,
              "DISPLAY_MAX_ROWS": 50000,
              "DISPLAY_MODE": "simple",
              "ENABLE_ASSIGNMENT": true,
              "ENABLE_DATALINK": true,
              "FLATTEN_COLUMN_VALUES": true,
              "FLATTEN_INDEX_VALUES": false,
              "GENERATE_DEX_METADATA": false,
              "HTML_TABLE_SCHEMA": false,
              "LOG_LEVEL": 30,
              "MAX_RENDER_SIZE_BYTES": 104857600,
              "MAX_STRING_LENGTH": 250,
              "NUM_PAST_SAMPLES_TRACKED": 3,
              "RANDOM_STATE": 12648430,
              "RESET_INDEX_VALUES": false,
              "ROW_SAMPLING_METHOD": "random",
              "SAMPLING_FACTOR": 0.1,
              "SAMPLING_METHOD": "random",
              "STRINGIFY_COLUMN_VALUES": true,
              "STRINGIFY_INDEX_VALUES": false
            },
            "sample_history": [],
            "sampling_time": "2023-08-19T20:13:26.712882",
            "user_variable_name": null,
            "variable_name": "unk_dataframe_735d5e96937941a8ae02ef57f98c0b3a"
          }
        },
        "tags": [
          "show_line_numbers"
        ]
      },
      "id": "b3120810-cec6-444e-85d6-c6e512725392"
    },
    {
      "cell_type": "markdown",
      "source": [
        "Question 1: What is the number of passengers by age and sex? Is there a majority population group of passengers by age and sex, if any? \n",
        "\n",
        "Answer: Most of the passengers were in between 20s and 30s, and in that age group there were about 250 males and 100 females.  "
      ],
      "metadata": {
        "noteable": {
          "cell_type": "markdown"
        }
      },
      "id": "354997fc-e709-4c94-bd2d-befb7dcd98f3"
    },
    {
      "cell_type": "code",
      "source": [
        "#Get count of passengers' age broken by sex. \n",
        "#Use sns.pairplot to get a quick graphs of 'Age' as x and 'Sex' as hue\n",
        "sns.histplot(data=df, x='Age', hue='Sex', multiple='dodge')"
      ],
      "outputs": [
        {
          "output_type": "execute_result",
          "execution_count": null,
          "data": {
            "text/plain": "<AxesSubplot: xlabel='Age', ylabel='Count'>"
          },
          "metadata": {}
        },
        {
          "output_type": "display_data",
          "data": {
            "image/png": "[encoded data removed]"
          },
          "metadata": {}
        }
      ],
      "execution_count": null,
      "metadata": {
        "jupyter": {
          "outputs_hidden": false,
          "source_hidden": false
        },
        "noteable": {
          "cell_type": "code"
        },
        "ExecuteTime": {
          "start_time": "2023-09-10T21:00:56.892795+00:00",
          "end_time": "2023-09-10T21:00:57.377898+00:00"
        },
        "tags": [
          "show_line_numbers"
        ]
      },
      "id": "18d6b1b7-91fb-41f4-81e4-fba57b8b4cfb"
    },
    {
      "cell_type": "markdown",
      "source": [
        "Question 2: What is the fare distribution by sex?\n",
        "\n",
        "Answer: Both male and female passengers had a simliar trend to their cost of fares; negatively skewed graphs below confirm the vast majority of passengers paid 50 or less.\n"
      ],
      "metadata": {
        "noteable": {
          "cell_type": "markdown"
        }
      },
      "id": "d581a95d-9da5-4b81-8065-87e222af1aca"
    },
    {
      "cell_type": "code",
      "source": [
        "#sns.histplot(data=df, x='Age', hue='Sex')\n",
        "g = sns.FacetGrid(df, col='Sex') \n",
        "g.map(sns.histplot,'Fare')  "
      ],
      "outputs": [
        {
          "output_type": "execute_result",
          "execution_count": null,
          "data": {
            "text/plain": "<seaborn.axisgrid.FacetGrid at 0x7f7ada03c160>"
          },
          "metadata": {}
        },
        {
          "output_type": "display_data",
          "data": {
            "image/png": "[encoded data removed]"
          },
          "metadata": {}
        }
      ],
      "execution_count": null,
      "metadata": {
        "jupyter": {
          "outputs_hidden": false,
          "source_hidden": false
        },
        "noteable": {
          "cell_type": "code"
        },
        "tags": [
          "show_line_numbers"
        ],
        "ExecuteTime": {
          "start_time": "2023-09-10T21:00:57.531085+00:00",
          "end_time": "2023-09-10T21:00:58.214358+00:00"
        }
      },
      "id": "38e1768d-3ca6-4508-8a43-c231577b9421"
    },
    {
      "cell_type": "markdown",
      "source": [
        "Question 3: What is the survival rate by gender?\n",
        "\n",
        "Answer: The survival rate of males is 13% while that of females is 50%. Females had a higher survivate rate than males."
      ],
      "metadata": {
        "noteable": {
          "cell_type": "markdown"
        }
      },
      "id": "a3f08f5f-a6f6-4f62-bb4f-e10ba3806b4d"
    },
    {
      "cell_type": "code",
      "source": [
        "#male \n",
        "total_male_survived = df[(df['Sex']==0) & (df['Survived']==1)].shape[0]\n",
        "total_male = df[df['Sex']==0].shape[0]\n",
        "sur_rate_male = total_male_survived/total_male\n",
        "pie_data_male=[sur_rate_male,1-sur_rate_male]\n",
        "pie_data_male_key=['Survived','Total Males']\n",
        "plt.title(\"Survival Rate of Males\")\n",
        "print (f\"Male survival rate: {sur_rate_male}\")\n",
        "plt.pie(pie_data_male, labels=pie_data_male_key)\n",
        "plt.show()\n",
        "\n",
        "#female\n",
        "total_fem_survived = df[(df['Sex']==1) & (df['Survived']==1)].shape[0]\n",
        "total_fem = df[df['Sex']==1].shape[0]\n",
        "sur_rate_female = total_fem_survived/total_fem\n",
        "pie_data_female=[sur_rate_female, 1-sur_rate_female]\n",
        "pie_data_female_key=['Survived','Total Females']\n",
        "plt.title('Survival Rate of Females')\n",
        "print (f\"Female survial rate: {sur_rate_female}\")\n",
        "plt.pie(pie_data_female, labels=pie_data_female_key)\n",
        "plt.show()"
      ],
      "outputs": [
        {
          "output_type": "stream",
          "name": "stdout",
          "text": [
            "Male survival rate: 0.12930011862396204\n"
          ]
        },
        {
          "output_type": "display_data",
          "data": {
            "image/png": "[encoded data removed]"
          },
          "metadata": {}
        },
        {
          "output_type": "stream",
          "name": "stdout",
          "text": [
            "Female survial rate: 0.5\n"
          ]
        },
        {
          "output_type": "display_data",
          "data": {
            "image/png": "[encoded data removed]"
          },
          "metadata": {}
        }
      ],
      "execution_count": null,
      "metadata": {
        "jupyter": {
          "outputs_hidden": false,
          "source_hidden": false
        },
        "noteable": {
          "cell_type": "code"
        },
        "ExecuteTime": {
          "start_time": "2023-09-10T21:00:58.474780+00:00",
          "end_time": "2023-09-10T21:00:58.797012+00:00"
        },
        "datalink": {
          "243d9e50-f716-4266-adc5-aafb81f4b357": {
            "applied_filters": [],
            "dataframe_info": {
              "default_index_used": true,
              "orig_num_cols": 1,
              "orig_num_rows": 1309,
              "orig_size_bytes": 20944,
              "truncated_num_cols": 1,
              "truncated_num_rows": 1309,
              "truncated_size_bytes": 20944,
              "truncated_string_columns": []
            },
            "display_id": "243d9e50-f716-4266-adc5-aafb81f4b357",
            "dx_settings": {
              "ALLOW_NOTEABLE_ATTRS": true,
              "COLUMN_SAMPLING_METHOD": "outer",
              "DB_LOCATION": ":memory:",
              "DEV_MODE": false,
              "DISPLAY_MAX_COLUMNS": 100,
              "DISPLAY_MAX_ROWS": 50000,
              "DISPLAY_MODE": "simple",
              "ENABLE_ASSIGNMENT": true,
              "ENABLE_DATALINK": true,
              "FLATTEN_COLUMN_VALUES": true,
              "FLATTEN_INDEX_VALUES": false,
              "GENERATE_DEX_METADATA": false,
              "HTML_TABLE_SCHEMA": false,
              "LOG_LEVEL": 30,
              "MAX_RENDER_SIZE_BYTES": 104857600,
              "MAX_STRING_LENGTH": 250,
              "NUM_PAST_SAMPLES_TRACKED": 3,
              "RANDOM_STATE": 12648430,
              "RESET_INDEX_VALUES": false,
              "ROW_SAMPLING_METHOD": "random",
              "SAMPLING_FACTOR": 0.1,
              "SAMPLING_METHOD": "random",
              "STRINGIFY_COLUMN_VALUES": true,
              "STRINGIFY_INDEX_VALUES": false
            },
            "sample_history": [],
            "sampling_time": "2023-08-20T19:22:52.414536",
            "user_variable_name": null,
            "variable_name": "unk_dataframe_7ca1aa73ccfe4543aacfc8586a256345"
          },
          "b91b1df5-c686-4352-8b98-fe8daff76d6d": {
            "applied_filters": [],
            "dataframe_info": {
              "default_index_used": true,
              "orig_num_cols": 1,
              "orig_num_rows": 1309,
              "orig_size_bytes": 11781,
              "truncated_num_cols": 1,
              "truncated_num_rows": 1309,
              "truncated_size_bytes": 11781,
              "truncated_string_columns": []
            },
            "display_id": "b91b1df5-c686-4352-8b98-fe8daff76d6d",
            "dx_settings": {
              "ALLOW_NOTEABLE_ATTRS": true,
              "COLUMN_SAMPLING_METHOD": "outer",
              "DB_LOCATION": ":memory:",
              "DEV_MODE": false,
              "DISPLAY_MAX_COLUMNS": 100,
              "DISPLAY_MAX_ROWS": 50000,
              "DISPLAY_MODE": "simple",
              "ENABLE_ASSIGNMENT": true,
              "ENABLE_DATALINK": true,
              "FLATTEN_COLUMN_VALUES": true,
              "FLATTEN_INDEX_VALUES": false,
              "GENERATE_DEX_METADATA": false,
              "HTML_TABLE_SCHEMA": false,
              "LOG_LEVEL": 30,
              "MAX_RENDER_SIZE_BYTES": 104857600,
              "MAX_STRING_LENGTH": 250,
              "NUM_PAST_SAMPLES_TRACKED": 3,
              "RANDOM_STATE": 12648430,
              "RESET_INDEX_VALUES": false,
              "ROW_SAMPLING_METHOD": "random",
              "SAMPLING_FACTOR": 0.1,
              "SAMPLING_METHOD": "random",
              "STRINGIFY_COLUMN_VALUES": true,
              "STRINGIFY_INDEX_VALUES": false
            },
            "sample_history": [],
            "sampling_time": "2023-08-20T19:23:02.851225",
            "user_variable_name": null,
            "variable_name": "unk_dataframe_7cff492a120641f08d0be9ea0c2df7bf"
          }
        },
        "tags": [
          "show_line_numbers"
        ]
      },
      "id": "87a7839e-cc35-41af-b544-10575dfebf57"
    },
    {
      "cell_type": "markdown",
      "source": [
        "Question 4: What was the rate of passengers per class and the passengers' survival rates by the class?\n",
        "\n",
        "Answer: For the rate of passengers per class and their survival rates by the class, the 3rd class had the majority of passengers of 54% while the 1st and 2nd class had about the same percentage of passengers, 25% and 21%, respectively. The passengers' survival rates had a strong positive correlation with the passengers' class; the passengers in the first class had the highest survival rates of $42% versus the passengers in the second class had the next highest survival rates of 31%, while the passengers in the third class had the lowest survival rates of 17%.\n"
      ],
      "metadata": {
        "noteable": {
          "cell_type": "markdown"
        }
      },
      "id": "a21e5ee7-d9d0-4f86-8dd9-27c36e301603"
    },
    {
      "cell_type": "code",
      "source": [
        "print(df.Pclass.value_counts())\n",
        "print(df.Pclass.value_counts(normalize=True))\n",
        "print (df.groupby('Pclass').sum()['Survived'])\n",
        "sur_rate_1st=136/323\n",
        "sur_rate_2nd=87/277\n",
        "sur_rate_3rd=119/709\n",
        "x=[sur_rate_1st, sur_rate_2nd, sur_rate_3rd]\n",
        "y=df.Pclass\n",
        "df_sur_rate = pd.DataFrame({sur_rate_1st, sur_rate_2nd, sur_rate_3rd}, index=['1st','2nd','3rd'])\n",
        "print(df.groupby('Pclass').mean()['Survived'])"
      ],
      "outputs": [
        {
          "output_type": "stream",
          "name": "stdout",
          "text": [
            "3    709\n",
            "1    323\n",
            "2    277\n",
            "Name: Pclass, dtype: int64\n",
            "3    0.541635\n",
            "1    0.246753\n",
            "2    0.211612\n",
            "Name: Pclass, dtype: float64\n",
            "Pclass\n",
            "1    136\n",
            "2     87\n",
            "3    119\n",
            "Name: Survived, dtype: int64\n",
            "Pclass\n",
            "1    0.421053\n",
            "2    0.314079\n",
            "3    0.167842\n",
            "Name: Survived, dtype: float64\n"
          ]
        }
      ],
      "execution_count": null,
      "metadata": {
        "jupyter": {
          "outputs_hidden": false,
          "source_hidden": false
        },
        "noteable": {
          "cell_type": "code"
        },
        "tags": [
          "show_line_numbers"
        ],
        "ExecuteTime": {
          "start_time": "2023-09-10T21:00:59.112710+00:00",
          "end_time": "2023-09-10T21:00:59.275274+00:00"
        },
        "datalink": {
          "b4a4ed41-29a3-4a2b-8d0c-d2fe424d2be6": {
            "applied_filters": [],
            "dataframe_info": {
              "default_index_used": true,
              "orig_num_cols": 1,
              "orig_num_rows": 1309,
              "orig_size_bytes": 20944,
              "truncated_num_cols": 1,
              "truncated_num_rows": 1309,
              "truncated_size_bytes": 20944,
              "truncated_string_columns": []
            },
            "display_id": "b4a4ed41-29a3-4a2b-8d0c-d2fe424d2be6",
            "dx_settings": {
              "ALLOW_NOTEABLE_ATTRS": true,
              "COLUMN_SAMPLING_METHOD": "outer",
              "DB_LOCATION": ":memory:",
              "DEV_MODE": false,
              "DISPLAY_MAX_COLUMNS": 100,
              "DISPLAY_MAX_ROWS": 50000,
              "DISPLAY_MODE": "simple",
              "ENABLE_ASSIGNMENT": true,
              "ENABLE_DATALINK": true,
              "FLATTEN_COLUMN_VALUES": true,
              "FLATTEN_INDEX_VALUES": false,
              "GENERATE_DEX_METADATA": false,
              "HTML_TABLE_SCHEMA": false,
              "LOG_LEVEL": 30,
              "MAX_RENDER_SIZE_BYTES": 104857600,
              "MAX_STRING_LENGTH": 250,
              "NUM_PAST_SAMPLES_TRACKED": 3,
              "RANDOM_STATE": 12648430,
              "RESET_INDEX_VALUES": false,
              "ROW_SAMPLING_METHOD": "random",
              "SAMPLING_FACTOR": 0.1,
              "SAMPLING_METHOD": "random",
              "STRINGIFY_COLUMN_VALUES": true,
              "STRINGIFY_INDEX_VALUES": false
            },
            "sample_history": [],
            "sampling_time": "2023-08-24T20:43:54.384955",
            "user_variable_name": null,
            "variable_name": "unk_dataframe_011f8fac6693467bb82279badc798897"
          },
          "6802f264-1cb7-4369-820a-cf619940df4c": {
            "applied_filters": [],
            "dataframe_info": {
              "default_index_used": true,
              "orig_num_cols": 1,
              "orig_num_rows": 3,
              "orig_size_bytes": 48,
              "truncated_num_cols": 1,
              "truncated_num_rows": 3,
              "truncated_size_bytes": 48,
              "truncated_string_columns": []
            },
            "display_id": "6802f264-1cb7-4369-820a-cf619940df4c",
            "dx_settings": {
              "ALLOW_NOTEABLE_ATTRS": true,
              "COLUMN_SAMPLING_METHOD": "outer",
              "DB_LOCATION": ":memory:",
              "DEV_MODE": false,
              "DISPLAY_MAX_COLUMNS": 100,
              "DISPLAY_MAX_ROWS": 50000,
              "DISPLAY_MODE": "simple",
              "ENABLE_ASSIGNMENT": true,
              "ENABLE_DATALINK": true,
              "FLATTEN_COLUMN_VALUES": true,
              "FLATTEN_INDEX_VALUES": false,
              "GENERATE_DEX_METADATA": false,
              "HTML_TABLE_SCHEMA": false,
              "LOG_LEVEL": 30,
              "MAX_RENDER_SIZE_BYTES": 104857600,
              "MAX_STRING_LENGTH": 250,
              "NUM_PAST_SAMPLES_TRACKED": 3,
              "RANDOM_STATE": 12648430,
              "RESET_INDEX_VALUES": false,
              "ROW_SAMPLING_METHOD": "random",
              "SAMPLING_FACTOR": 0.1,
              "SAMPLING_METHOD": "random",
              "STRINGIFY_COLUMN_VALUES": true,
              "STRINGIFY_INDEX_VALUES": false
            },
            "sample_history": [],
            "sampling_time": "2023-08-24T20:44:56.002445",
            "user_variable_name": null,
            "variable_name": "unk_dataframe_98919e84b85142ff8632c2445182efc1"
          },
          "44d3afd5-a74b-4165-a339-5686a88969ca": {
            "applied_filters": [],
            "dataframe_info": {
              "default_index_used": true,
              "orig_num_cols": 1,
              "orig_num_rows": 3,
              "orig_size_bytes": 48,
              "truncated_num_cols": 1,
              "truncated_num_rows": 3,
              "truncated_size_bytes": 48,
              "truncated_string_columns": []
            },
            "display_id": "44d3afd5-a74b-4165-a339-5686a88969ca",
            "dx_settings": {
              "ALLOW_NOTEABLE_ATTRS": true,
              "COLUMN_SAMPLING_METHOD": "outer",
              "DB_LOCATION": ":memory:",
              "DEV_MODE": false,
              "DISPLAY_MAX_COLUMNS": 100,
              "DISPLAY_MAX_ROWS": 50000,
              "DISPLAY_MODE": "simple",
              "ENABLE_ASSIGNMENT": true,
              "ENABLE_DATALINK": true,
              "FLATTEN_COLUMN_VALUES": true,
              "FLATTEN_INDEX_VALUES": false,
              "GENERATE_DEX_METADATA": false,
              "HTML_TABLE_SCHEMA": false,
              "LOG_LEVEL": 30,
              "MAX_RENDER_SIZE_BYTES": 104857600,
              "MAX_STRING_LENGTH": 250,
              "NUM_PAST_SAMPLES_TRACKED": 3,
              "RANDOM_STATE": 12648430,
              "RESET_INDEX_VALUES": false,
              "ROW_SAMPLING_METHOD": "random",
              "SAMPLING_FACTOR": 0.1,
              "SAMPLING_METHOD": "random",
              "STRINGIFY_COLUMN_VALUES": true,
              "STRINGIFY_INDEX_VALUES": false
            },
            "sample_history": [],
            "sampling_time": "2023-08-24T20:45:02.067121",
            "user_variable_name": null,
            "variable_name": "unk_dataframe_f02a12ef4ad140829eb73ab28ae29c1a"
          },
          "be88192e-7799-4e9d-9adf-cbb0d0daf4b5": {
            "applied_filters": [],
            "dataframe_info": {
              "default_index_used": true,
              "orig_num_cols": 1,
              "orig_num_rows": 1309,
              "orig_size_bytes": 20944,
              "truncated_num_cols": 1,
              "truncated_num_rows": 1309,
              "truncated_size_bytes": 20944,
              "truncated_string_columns": []
            },
            "display_id": "be88192e-7799-4e9d-9adf-cbb0d0daf4b5",
            "dx_settings": {
              "ALLOW_NOTEABLE_ATTRS": true,
              "COLUMN_SAMPLING_METHOD": "outer",
              "DB_LOCATION": ":memory:",
              "DEV_MODE": false,
              "DISPLAY_MAX_COLUMNS": 100,
              "DISPLAY_MAX_ROWS": 50000,
              "DISPLAY_MODE": "simple",
              "ENABLE_ASSIGNMENT": true,
              "ENABLE_DATALINK": true,
              "FLATTEN_COLUMN_VALUES": true,
              "FLATTEN_INDEX_VALUES": false,
              "GENERATE_DEX_METADATA": false,
              "HTML_TABLE_SCHEMA": false,
              "LOG_LEVEL": 30,
              "MAX_RENDER_SIZE_BYTES": 104857600,
              "MAX_STRING_LENGTH": 250,
              "NUM_PAST_SAMPLES_TRACKED": 3,
              "RANDOM_STATE": 12648430,
              "RESET_INDEX_VALUES": false,
              "ROW_SAMPLING_METHOD": "random",
              "SAMPLING_FACTOR": 0.1,
              "SAMPLING_METHOD": "random",
              "STRINGIFY_COLUMN_VALUES": true,
              "STRINGIFY_INDEX_VALUES": false
            },
            "sample_history": [],
            "sampling_time": "2023-09-06T22:47:44.083862",
            "user_variable_name": null,
            "variable_name": "unk_dataframe_f0e11fe4eb724c01adc9ce3f6b269f8b"
          }
        }
      },
      "id": "d60db4f1-365c-45dd-949b-547e56ca72b0"
    },
    {
      "cell_type": "markdown",
      "source": [
        "Question 5: Were people who were alone more likely to survive than people who were accompanied by their parents and/or siblings?\n",
        "\n",
        "Answer: People who were accompanied by their parents and/or siblings had higher survival rates than people who were alone (34% vs. 20%). "
      ],
      "metadata": {
        "noteable": {
          "cell_type": "markdown"
        }
      },
      "id": "7e17ff1b-7c21-4e2c-9348-20d8fc388a45"
    },
    {
      "cell_type": "code",
      "source": [
        "df['isAlone']=((df['Parch']+df['sibsp'])==0).astype(int).astype(str)\n",
        "# print(df['isAlone'])\n",
        "print (df.groupby('isAlone').mean()['Survived'])"
      ],
      "outputs": [
        {
          "output_type": "stream",
          "name": "stdout",
          "text": [
            "isAlone\n",
            "0    0.344894\n",
            "1    0.206329\n",
            "Name: Survived, dtype: float64\n"
          ]
        }
      ],
      "execution_count": null,
      "metadata": {
        "jupyter": {
          "outputs_hidden": false,
          "source_hidden": false
        },
        "noteable": {
          "cell_type": "code"
        },
        "ExecuteTime": {
          "start_time": "2023-09-10T21:00:59.281937+00:00",
          "end_time": "2023-09-10T21:00:59.440239+00:00"
        },
        "tags": [
          "show_line_numbers"
        ]
      },
      "id": "82362e77-c790-4d2a-9f58-9ca8ac111170"
    },
    {
      "cell_type": "markdown",
      "source": [
        "Question 6: What was the fare distribution? \n",
        "\n",
        "Answer: Almost all the passengers purchased the cheapest fare. "
      ],
      "metadata": {
        "noteable": {
          "cell_type": "markdown"
        }
      },
      "id": "b84e1f5f-a3f2-4218-9796-fa6642112b4d"
    },
    {
      "cell_type": "markdown",
      "source": [
        "Question 7: Divide fare distrubiton by price ranges. \n",
        "\n",
        "Answer: ~94% of passengers purchased cheapest fares under 100; ~4% purchased fares between 100 to 200; ~2% purchased fares between 200 to 300; and less than 1% purchased the most expensive fares costing over 500.    "
      ],
      "metadata": {
        "noteable": {
          "cell_type": "markdown"
        }
      },
      "id": "13258138-40a4-4f5a-9482-69b14907b8fb"
    },
    {
      "cell_type": "code",
      "source": [
        "#Feature Engineering: creating more new useful features than already existing features \n",
        "#how to use .apply\n",
        "def func(inp):\n",
        "    if 0<=inp<=100:\n",
        "        return 'under 100'\n",
        "    elif 100<inp<=200:\n",
        "        return '100 to 200'\n",
        "    elif 200<inp<=300:\n",
        "        return '200 to 300'\n",
        "    elif 300<inp<=400:\n",
        "        return '300 to 400'\n",
        "    elif 400<inp<=500:\n",
        "        return '400 to 500'\n",
        "    else:\n",
        "        return 'Over 500'\n",
        "\n",
        "df['Fare_buckets']=df['Fare'].apply(func)\n",
        "print(df['Fare_buckets'].value_counts(normalize=True))        "
      ],
      "outputs": [
        {
          "output_type": "stream",
          "name": "stdout",
          "text": [
            "under 100     0.935829\n",
            "100 to 200    0.035141\n",
            "200 to 300    0.025974\n",
            "Over 500      0.003056\n",
            "Name: Fare_buckets, dtype: float64\n"
          ]
        }
      ],
      "execution_count": null,
      "metadata": {
        "jupyter": {
          "outputs_hidden": false,
          "source_hidden": false
        },
        "noteable": {
          "cell_type": "code"
        },
        "ExecuteTime": {
          "start_time": "2023-09-10T21:01:01.240894+00:00",
          "end_time": "2023-09-10T21:01:01.399675+00:00"
        },
        "datalink": {
          "1295d533-add6-43f5-9f9b-79a29f2902cd": {
            "applied_filters": [],
            "dataframe_info": {
              "default_index_used": true,
              "orig_num_cols": 1,
              "orig_num_rows": 1309,
              "orig_size_bytes": 20944,
              "truncated_num_cols": 1,
              "truncated_num_rows": 1309,
              "truncated_size_bytes": 20944,
              "truncated_string_columns": []
            },
            "display_id": "1295d533-add6-43f5-9f9b-79a29f2902cd",
            "dx_settings": {
              "ALLOW_NOTEABLE_ATTRS": true,
              "COLUMN_SAMPLING_METHOD": "outer",
              "DB_LOCATION": ":memory:",
              "DEV_MODE": false,
              "DISPLAY_MAX_COLUMNS": 100,
              "DISPLAY_MAX_ROWS": 50000,
              "DISPLAY_MODE": "simple",
              "ENABLE_ASSIGNMENT": true,
              "ENABLE_DATALINK": true,
              "FLATTEN_COLUMN_VALUES": true,
              "FLATTEN_INDEX_VALUES": false,
              "GENERATE_DEX_METADATA": false,
              "HTML_TABLE_SCHEMA": false,
              "LOG_LEVEL": 30,
              "MAX_RENDER_SIZE_BYTES": 104857600,
              "MAX_STRING_LENGTH": 250,
              "NUM_PAST_SAMPLES_TRACKED": 3,
              "RANDOM_STATE": 12648430,
              "RESET_INDEX_VALUES": false,
              "ROW_SAMPLING_METHOD": "random",
              "SAMPLING_FACTOR": 0.1,
              "SAMPLING_METHOD": "random",
              "STRINGIFY_COLUMN_VALUES": true,
              "STRINGIFY_INDEX_VALUES": false
            },
            "sample_history": [],
            "sampling_time": "2023-08-24T21:24:22.573193",
            "user_variable_name": null,
            "variable_name": "unk_dataframe_156cf0bcfdeb44a1b9080263c31fede0"
          }
        },
        "tags": [
          "show_line_numbers"
        ]
      },
      "id": "cd2cba6d-9eb8-4e15-b707-bdd7a2fdb976"
    },
    {
      "cell_type": "markdown",
      "source": [
        "Question 8: Are there any coorelation between the two variables? \n",
        "\n",
        "Answer: There is no correlation between the fares and ports. "
      ],
      "metadata": {
        "noteable": {
          "cell_type": "markdown"
        }
      },
      "id": "7b959929-468c-47b9-a48c-b198b0c34e8b"
    },
    {
      "cell_type": "code",
      "source": [
        "#fare distribution by port and interpretation\n",
        "print(df.columns)\n",
        "print (df.groupby(['Fare_buckets','Embarked']).mean()['Fare'])"
      ],
      "outputs": [
        {
          "output_type": "stream",
          "name": "stdout",
          "text": [
            "Index(['Passengerid', 'Age', 'Fare', 'Sex', 'sibsp', 'Parch', 'Pclass',\n",
            "       'Embarked', 'Survived', 'isAlone', 'Fare_buckets'],\n",
            "      dtype='object')\n",
            "Fare_buckets  Embarked\n",
            "100 to 200    0.0         123.917458\n",
            "              2.0         145.604380\n",
            "200 to 300    0.0         238.715620\n",
            "              2.0         236.461914\n",
            "Over 500      0.0         512.329200\n",
            "under 100     0.0          30.842314\n",
            "              1.0          12.409012\n",
            "              2.0          21.525268\n",
            "Name: Fare, dtype: float64\n"
          ]
        }
      ],
      "execution_count": null,
      "metadata": {
        "jupyter": {
          "outputs_hidden": false,
          "source_hidden": false
        },
        "noteable": {
          "cell_type": "code"
        },
        "tags": [
          "show_line_numbers"
        ],
        "ExecuteTime": {
          "start_time": "2023-09-10T21:01:02.593886+00:00",
          "end_time": "2023-09-10T21:01:02.752507+00:00"
        }
      },
      "id": "b29bd8a0-9fe0-4754-8463-9060926cdaed"
    },
    {
      "cell_type": "markdown",
      "source": [
        "Question 9: Were people who are travelling alone more likely to be in a certain class compare to those travelling with family? \n",
        "\n",
        "Answer: There is no correlation between the people who are travelling alone and the passengers' class.  "
      ],
      "metadata": {
        "noteable": {
          "cell_type": "markdown"
        }
      },
      "id": "da07adb1-1175-4cbf-90e1-144ebd0d0b18"
    },
    {
      "cell_type": "code",
      "source": [
        "#Were people traveling alone more likely to be in a certain class compared to those traveling with family?\n",
        "#print (df.groupby(['Pclass', 'isAlone'].sum()['Survived'].shape(0))\n",
        "# print (df.groupby(['Pclass','isAlone']).count())\n",
        "print (df.groupby(['isAlone'])['Pclass'].value_counts())"
      ],
      "outputs": [
        {
          "output_type": "stream",
          "name": "stdout",
          "text": [
            "isAlone  Pclass\n",
            "0        3         237\n",
            "         1         163\n",
            "         2         119\n",
            "1        3         472\n",
            "         1         160\n",
            "         2         158\n",
            "Name: Pclass, dtype: int64\n"
          ]
        }
      ],
      "execution_count": null,
      "metadata": {
        "jupyter": {
          "outputs_hidden": false,
          "source_hidden": false
        },
        "noteable": {
          "cell_type": "code"
        },
        "tags": [
          "show_line_numbers"
        ],
        "ExecuteTime": {
          "start_time": "2023-09-10T21:01:03.630479+00:00",
          "end_time": "2023-09-10T21:01:03.787852+00:00"
        },
        "datalink": {
          "68c2144f-73e6-4d60-b16f-0b0c87cb0e03": {
            "applied_filters": [],
            "dataframe_info": {
              "default_index_used": false,
              "orig_num_cols": 1,
              "orig_num_rows": 2,
              "orig_size_bytes": 32,
              "truncated_num_cols": 1,
              "truncated_num_rows": 2,
              "truncated_size_bytes": 32,
              "truncated_string_columns": []
            },
            "display_id": "68c2144f-73e6-4d60-b16f-0b0c87cb0e03",
            "dx_settings": {
              "ALLOW_NOTEABLE_ATTRS": true,
              "COLUMN_SAMPLING_METHOD": "outer",
              "DB_LOCATION": ":memory:",
              "DEV_MODE": false,
              "DISPLAY_MAX_COLUMNS": 100,
              "DISPLAY_MAX_ROWS": 50000,
              "DISPLAY_MODE": "simple",
              "ENABLE_ASSIGNMENT": true,
              "ENABLE_DATALINK": true,
              "FLATTEN_COLUMN_VALUES": true,
              "FLATTEN_INDEX_VALUES": false,
              "GENERATE_DEX_METADATA": false,
              "HTML_TABLE_SCHEMA": false,
              "LOG_LEVEL": 30,
              "MAX_RENDER_SIZE_BYTES": 104857600,
              "MAX_STRING_LENGTH": 250,
              "NUM_PAST_SAMPLES_TRACKED": 3,
              "RANDOM_STATE": 12648430,
              "RESET_INDEX_VALUES": false,
              "ROW_SAMPLING_METHOD": "random",
              "SAMPLING_FACTOR": 0.1,
              "SAMPLING_METHOD": "random",
              "STRINGIFY_COLUMN_VALUES": true,
              "STRINGIFY_INDEX_VALUES": false
            },
            "sample_history": [],
            "sampling_time": "2023-08-26T18:55:32.617358",
            "user_variable_name": null,
            "variable_name": "unk_dataframe_c9f3a444607848c499274578f74d4f03"
          }
        }
      },
      "id": "74ef6475-7c8c-4229-8a9f-a720a8eb859f"
    },
    {
      "cell_type": "markdown",
      "source": [
        "Question 10: What are the survival rates by  both the gender and the age group (e.g. survival rates of young males vs. survival rates of middle age females)? \n",
        "\n",
        "Answer: To find survival rates by both the gender and the age, I first categorized passengers' age as following: older than or equal to 65 as old, between 25 years and 65 as middle age, younger than 25 as young. The middle age female group had the most number of survivors, 148, while the old female group had the least number of survivors, 0. The minimum age of the passengers was less than a year old, the oldest age was 80, and the average age was 30.       "
      ],
      "metadata": {
        "noteable": {
          "cell_type": "markdown"
        }
      },
      "id": "5b6f7b8b-0465-47be-b372-e3f8a2921355"
    },
    {
      "cell_type": "code",
      "source": [
        "def age_fun(inp):\n",
        "    if inp >=65:\n",
        "        return 'Old'\n",
        "    elif inp >=25: \n",
        "        return 'Middle Age'\n",
        "    else: \n",
        "        return 'Young'\n",
        "    \n",
        "\n",
        "def func1(age,gender):\n",
        "    if gender==1:\n",
        "        return age_fun(age)+' '+'female'\n",
        "    else:\n",
        "        return age_fun(age)+' '+'male'\n",
        "  \n",
        "df['Age_Sex'] = df[['Age','Sex']].apply(lambda row: func1(row['Age'],row['Sex']),axis=1) \n",
        "print(df.groupby('Age_Sex').sum()['Survived'])\n",
        "plt.figure(figsize=(12,16))\n",
        "sns.histplot(data=df,x='Age_Sex')\n",
        "\n",
        "#print(df['Age_Sex'].value_counts(normalize=True)) #normalize turn it to % \n",
        "# print(df['Age_Sex'].value_counts())    \n",
        "# print(df[(df['Age_Sex']) & (df['Survived']==1)].value_counts())    \n",
        "    \n",
        "#lambda is a way to make functions anonymous\n",
        "\n",
        "#lambda is used as an interface to properly ppass the row arguments to dummyfunc\n",
        "# print(df[['Age','Sex']].apply(lambda row:dummyfunc(row['Age'],row['Sex'])))\n"
      ],
      "outputs": [
        {
          "output_type": "stream",
          "name": "stdout",
          "text": [
            "Age_Sex\n",
            "Middle Age female    148\n",
            "Middle Age male       75\n",
            "Old female             0\n",
            "Old male               1\n",
            "Young female          85\n",
            "Young male            33\n",
            "Name: Survived, dtype: int64\n"
          ]
        },
        {
          "output_type": "execute_result",
          "execution_count": null,
          "data": {
            "text/plain": "<AxesSubplot: xlabel='Age_Sex', ylabel='Count'>"
          },
          "metadata": {}
        },
        {
          "output_type": "display_data",
          "data": {
            "image/png": "[encoded data removed]"
          },
          "metadata": {}
        }
      ],
      "execution_count": null,
      "metadata": {
        "jupyter": {
          "outputs_hidden": false,
          "source_hidden": false
        },
        "noteable": {
          "cell_type": "code"
        },
        "tags": [
          "show_line_numbers"
        ],
        "ExecuteTime": {
          "start_time": "2023-09-10T21:01:05.141084+00:00",
          "end_time": "2023-09-10T21:01:05.573246+00:00"
        }
      },
      "id": "f9c164b5-c0db-4bac-92c0-8eb14b1a0a93"
    },
    {
      "cell_type": "code",
      "source": [
        "age_min = df['Age'].min()\n",
        "age_max = df['Age'].max()\n",
        "age_mean = df['Age'].mean()\n",
        "print (f'this is min age {age_min}')\n",
        "print (f'this is max age {age_max}')\n",
        "print (f'this is average age {age_mean}')"
      ],
      "outputs": [
        {
          "output_type": "stream",
          "name": "stdout",
          "text": [
            "this is min age 0.17\n",
            "this is max age 80.0\n",
            "this is average age 29.50318563789152\n"
          ]
        }
      ],
      "execution_count": null,
      "metadata": {
        "jupyter": {
          "outputs_hidden": false,
          "source_hidden": false
        },
        "noteable": {
          "cell_type": "code"
        },
        "tags": [
          "show_line_numbers"
        ],
        "ExecuteTime": {
          "start_time": "2023-09-10T21:01:06.098584+00:00",
          "end_time": "2023-09-10T21:01:06.255587+00:00"
        }
      },
      "id": "e0ff9a5e-4b9c-4ca6-a04c-5d7fb7e3b81f"
    }
  ],
  "metadata": {
    "kernel_info": {
      "name": "python3"
    },
    "noteable": {
      "last_transaction_id": "7913ee33-e8f6-4dec-8849-e14c4ec8bc23",
      "last_delta_id": "0b9c6a7c-eed2-4aec-b8a3-02a793388610"
    },
    "kernelspec": {
      "name": "python3",
      "display_name": "Python 3.9",
      "language": "python"
    },
    "selected_hardware_size": "small",
    "nteract": {
      "version": "noteable@2.9.0"
    }
  },
  "nbformat": 4,
  "nbformat_minor": 5
}
