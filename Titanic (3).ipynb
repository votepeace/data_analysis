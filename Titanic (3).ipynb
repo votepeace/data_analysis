{
  "nbformat": 4,
  "nbformat_minor": 5,
  "metadata": {
    "kernel_info": {
      "name": "python3"
    },
    "noteable": {
      "last_transaction_id": "7913ee33-e8f6-4dec-8849-e14c4ec8bc23"
    },
    "kernelspec": {
      "display_name": "Python 3.9",
      "language": "python",
      "name": "python3"
    },
    "selected_hardware_size": "small"
  },
  "cells": [
    {
      "id": "0889c49a-79ae-4905-b39c-6d23aa31a264",
      "cell_type": "markdown",
      "source": "### Peace Choi's analysis of Titanic data: \n\nI imported following Python libraries: NumPy, Pandas, Matplotlib.pyplot, and Seaborn. I imported a titanic csv file and made a Pandas DataFrame. I cleaned the data by removing unnecessary columns, correcting name of a misspelled column, and replacing NA values in all columns with the mean value of the corresponding column, as appropriate.  \n\nMost of the passengers were in 20s and 30s, and in the age group there were about 250 males and 100 females. Both male and female passengers had a similar trend to their cost of fares; negatively skewed graphs confirmed the vast majority of passengers paid 50 or less. The survival rate of males is 13% while that of females is 50%; females had a higher survive rate than males. \n\nFor the rate of passengers per class and their survival rates by the class, the 3rd class had the majority of passengers of 54% while the 1st and 2nd class had about the same percentage of passengers, 25% and 21%, respectively. The passengers' survival rates had a strong positive correlation with the passengers' class; the passengers in the first class had the highest survival rates of $42% versus the passengers in the second class had the next highest survival rates of 31%, while the passengers in the third class had the lowest survival rates of 17%.\n\nPeople who were accompanied by their parents and/or siblings had higher survival rates than people who were alone (34% vs. 20%).\n\n~94% of passengers purchased cheapest fares under 100; ~4% purchased fares between 100 to 200; ~2% purchased fares between 200 to 300; and less than 1% purchased the most expensive fares costing over 500.   \n\nThere is no correlation between the fares and ports. There is no correlation between the people who are travelling alone and the passengers' class. To find survival rates by both the gender and the age, I first categorized passengers' age as following: older than or equal to 65 as old, between 25 years and 65 as middle age, younger than 25 as young. The middle age female group had the most number of survivors, 148, while the old female group had the least number of survivors, 0. The minimum age of the passengers was less than a year old, the oldest age was 80, and the average age was 30.\n\n",
      "metadata": {
        "noteable": {
          "cell_type": "markdown"
        }
      }
    },
    {
      "id": "9a151c35",
      "cell_type": "code",
      "metadata": {
        "noteable": {
          "output_collection_id": "9b595c1e-e8fd-4400-9ac0-a9343d447844"
        },
        "ExecuteTime": {
          "end_time": "2023-09-10T21:00:54.406720+00:00",
          "start_time": "2023-09-10T21:00:54.196699+00:00"
        },
        "jupyter": {
          "source_hidden": false,
          "outputs_hidden": false
        },
        "tags": [
          "show_line_numbers"
        ],
        "datalink": {
          "78c9faa6-a228-4f1c-a96a-c5074d62489d": {
            "applied_filters": [],
            "dataframe_info": {
              "default_index_used": false,
              "orig_num_cols": 28,
              "orig_num_rows": 8,
              "orig_size_bytes": 1856,
              "truncated_num_cols": 28,
              "truncated_num_rows": 8,
              "truncated_size_bytes": 1856,
              "truncated_string_columns": []
            },
            "display_id": "78c9faa6-a228-4f1c-a96a-c5074d62489d",
            "dx_settings": {
              "ALLOW_NOTEABLE_ATTRS": true,
              "COLUMN_SAMPLING_METHOD": "outer",
              "DB_LOCATION": ":memory:",
              "DEV_MODE": false,
              "DISPLAY_MAX_COLUMNS": 100,
              "DISPLAY_MAX_ROWS": 50000,
              "DISPLAY_MODE": "simple",
              "ENABLE_ASSIGNMENT": true,
              "ENABLE_DATALINK": true,
              "FLATTEN_COLUMN_VALUES": true,
              "FLATTEN_INDEX_VALUES": false,
              "GENERATE_DEX_METADATA": false,
              "HTML_TABLE_SCHEMA": false,
              "LOG_LEVEL": 30,
              "MAX_RENDER_SIZE_BYTES": 104857600,
              "MAX_STRING_LENGTH": 250,
              "NUM_PAST_SAMPLES_TRACKED": 3,
              "RANDOM_STATE": 12648430,
              "RESET_INDEX_VALUES": false,
              "ROW_SAMPLING_METHOD": "random",
              "SAMPLING_FACTOR": 0.1,
              "SAMPLING_METHOD": "random",
              "STRINGIFY_COLUMN_VALUES": true,
              "STRINGIFY_INDEX_VALUES": false
            },
            "sample_history": [],
            "sampling_time": "2023-09-08T17:42:23.383131",
            "user_variable_name": null,
            "variable_name": "unk_dataframe_cb8d71198cff463aa5510210b9a9425f"
          }
        }
      },
      "execution_count": null,
      "source": "\n#Import libraries and apply pandas dataframe to the data\nimport numpy as npz\nimport pandas as pd\nimport matplotlib.pyplot as plt\nimport seaborn as sns\ndf=pd.read_csv('train_and_test2.csv') \n\n#Quick glance of the data\nprint (df.info()) \nprint (df.describe())",
      "outputs": []
    },
    {
      "id": "c06b9fb4-4555-48bf-9878-ed5e451a9829",
      "cell_type": "markdown",
      "source": "## Source of Tiantic.csv: [kaggle](https://www.kaggle.com/datasets?search=titanic)\n\nCreator of the titantic.csv file: Khashayar Baghizadeh Hosseini\n\n## Data cleaning: \nRemove multiple uncessary columns:\n1. Remove columns with name 'zero' in it because they contain 0s. \n2. Change name of column '2urvived' to 'Survived'\n3. Check for null or NaN values in columns. Either ignore, drop, or replace those. ",
      "metadata": {
        "noteable": {
          "cell_type": "markdown"
        },
        "tags": [
          "show_line_numbers"
        ]
      }
    },
    {
      "id": "b3120810-cec6-444e-85d6-c6e512725392",
      "cell_type": "code",
      "metadata": {
        "jupyter": {
          "outputs_hidden": false,
          "source_hidden": false
        },
        "noteable": {
          "cell_type": "code",
          "output_collection_id": "104cddee-be15-4128-b1ca-e5368d16ec9a"
        },
        "ExecuteTime": {
          "end_time": "2023-09-10T21:00:55.658014+00:00",
          "start_time": "2023-09-10T21:00:55.499822+00:00"
        },
        "datalink": {
          "c6dbfcd1-f7c3-4169-8a0f-53e09b9afeed": {
            "applied_filters": [],
            "dataframe_info": {
              "default_index_used": true,
              "orig_num_cols": 28,
              "orig_num_rows": 5,
              "orig_size_bytes": 1160,
              "truncated_num_cols": 28,
              "truncated_num_rows": 5,
              "truncated_size_bytes": 1160,
              "truncated_string_columns": []
            },
            "display_id": "c6dbfcd1-f7c3-4169-8a0f-53e09b9afeed",
            "dx_settings": {
              "ALLOW_NOTEABLE_ATTRS": true,
              "COLUMN_SAMPLING_METHOD": "outer",
              "DB_LOCATION": ":memory:",
              "DEV_MODE": false,
              "DISPLAY_MAX_COLUMNS": 100,
              "DISPLAY_MAX_ROWS": 50000,
              "DISPLAY_MODE": "simple",
              "ENABLE_ASSIGNMENT": true,
              "ENABLE_DATALINK": true,
              "FLATTEN_COLUMN_VALUES": true,
              "FLATTEN_INDEX_VALUES": false,
              "GENERATE_DEX_METADATA": false,
              "HTML_TABLE_SCHEMA": false,
              "LOG_LEVEL": 30,
              "MAX_RENDER_SIZE_BYTES": 104857600,
              "MAX_STRING_LENGTH": 250,
              "NUM_PAST_SAMPLES_TRACKED": 3,
              "RANDOM_STATE": 12648430,
              "RESET_INDEX_VALUES": false,
              "ROW_SAMPLING_METHOD": "random",
              "SAMPLING_FACTOR": 0.1,
              "SAMPLING_METHOD": "random",
              "STRINGIFY_COLUMN_VALUES": true,
              "STRINGIFY_INDEX_VALUES": false
            },
            "sample_history": [],
            "sampling_time": "2023-08-19T19:06:56.057319",
            "user_variable_name": null,
            "variable_name": "unk_dataframe_406f69fa36924076b2f5b57f304cf142"
          },
          "2cc5cee1-2243-4532-9a19-555acc40257f": {
            "applied_filters": [],
            "dataframe_info": {
              "default_index_used": true,
              "orig_num_cols": 28,
              "orig_num_rows": 5,
              "orig_size_bytes": 1160,
              "truncated_num_cols": 28,
              "truncated_num_rows": 5,
              "truncated_size_bytes": 1160,
              "truncated_string_columns": []
            },
            "display_id": "2cc5cee1-2243-4532-9a19-555acc40257f",
            "dx_settings": {
              "ALLOW_NOTEABLE_ATTRS": true,
              "COLUMN_SAMPLING_METHOD": "outer",
              "DB_LOCATION": ":memory:",
              "DEV_MODE": false,
              "DISPLAY_MAX_COLUMNS": 100,
              "DISPLAY_MAX_ROWS": 50000,
              "DISPLAY_MODE": "simple",
              "ENABLE_ASSIGNMENT": true,
              "ENABLE_DATALINK": true,
              "FLATTEN_COLUMN_VALUES": true,
              "FLATTEN_INDEX_VALUES": false,
              "GENERATE_DEX_METADATA": false,
              "HTML_TABLE_SCHEMA": false,
              "LOG_LEVEL": 30,
              "MAX_RENDER_SIZE_BYTES": 104857600,
              "MAX_STRING_LENGTH": 250,
              "NUM_PAST_SAMPLES_TRACKED": 3,
              "RANDOM_STATE": 12648430,
              "RESET_INDEX_VALUES": false,
              "ROW_SAMPLING_METHOD": "random",
              "SAMPLING_FACTOR": 0.1,
              "SAMPLING_METHOD": "random",
              "STRINGIFY_COLUMN_VALUES": true,
              "STRINGIFY_INDEX_VALUES": false
            },
            "sample_history": [],
            "sampling_time": "2023-08-19T19:07:01.234450",
            "user_variable_name": null,
            "variable_name": "unk_dataframe_29b2e045df8a4939b7757a592de58b27"
          },
          "ba66f590-87f0-45f9-b79d-b2f15b2bd125": {
            "applied_filters": [],
            "dataframe_info": {
              "default_index_used": true,
              "orig_num_cols": 9,
              "orig_num_rows": 1309,
              "orig_size_bytes": 104720,
              "truncated_num_cols": 9,
              "truncated_num_rows": 1309,
              "truncated_size_bytes": 104720,
              "truncated_string_columns": []
            },
            "display_id": "ba66f590-87f0-45f9-b79d-b2f15b2bd125",
            "dx_settings": {
              "ALLOW_NOTEABLE_ATTRS": true,
              "COLUMN_SAMPLING_METHOD": "outer",
              "DB_LOCATION": ":memory:",
              "DEV_MODE": false,
              "DISPLAY_MAX_COLUMNS": 100,
              "DISPLAY_MAX_ROWS": 50000,
              "DISPLAY_MODE": "simple",
              "ENABLE_ASSIGNMENT": true,
              "ENABLE_DATALINK": true,
              "FLATTEN_COLUMN_VALUES": true,
              "FLATTEN_INDEX_VALUES": false,
              "GENERATE_DEX_METADATA": false,
              "HTML_TABLE_SCHEMA": false,
              "LOG_LEVEL": 30,
              "MAX_RENDER_SIZE_BYTES": 104857600,
              "MAX_STRING_LENGTH": 250,
              "NUM_PAST_SAMPLES_TRACKED": 3,
              "RANDOM_STATE": 12648430,
              "RESET_INDEX_VALUES": false,
              "ROW_SAMPLING_METHOD": "random",
              "SAMPLING_FACTOR": 0.1,
              "SAMPLING_METHOD": "random",
              "STRINGIFY_COLUMN_VALUES": true,
              "STRINGIFY_INDEX_VALUES": false
            },
            "sample_history": [],
            "sampling_time": "2023-08-19T19:15:10.092083",
            "user_variable_name": "df",
            "variable_name": "df"
          },
          "4b372272-5672-42d2-81a9-e611c766ceab": {
            "applied_filters": [],
            "dataframe_info": {
              "default_index_used": true,
              "orig_num_cols": 9,
              "orig_num_rows": 1309,
              "orig_size_bytes": 104720,
              "truncated_num_cols": 9,
              "truncated_num_rows": 1309,
              "truncated_size_bytes": 104720,
              "truncated_string_columns": []
            },
            "display_id": "4b372272-5672-42d2-81a9-e611c766ceab",
            "dx_settings": {
              "ALLOW_NOTEABLE_ATTRS": true,
              "COLUMN_SAMPLING_METHOD": "outer",
              "DB_LOCATION": ":memory:",
              "DEV_MODE": false,
              "DISPLAY_MAX_COLUMNS": 100,
              "DISPLAY_MAX_ROWS": 50000,
              "DISPLAY_MODE": "simple",
              "ENABLE_ASSIGNMENT": true,
              "ENABLE_DATALINK": true,
              "FLATTEN_COLUMN_VALUES": true,
              "FLATTEN_INDEX_VALUES": false,
              "GENERATE_DEX_METADATA": false,
              "HTML_TABLE_SCHEMA": false,
              "LOG_LEVEL": 30,
              "MAX_RENDER_SIZE_BYTES": 104857600,
              "MAX_STRING_LENGTH": 250,
              "NUM_PAST_SAMPLES_TRACKED": 3,
              "RANDOM_STATE": 12648430,
              "RESET_INDEX_VALUES": false,
              "ROW_SAMPLING_METHOD": "random",
              "SAMPLING_FACTOR": 0.1,
              "SAMPLING_METHOD": "random",
              "STRINGIFY_COLUMN_VALUES": true,
              "STRINGIFY_INDEX_VALUES": false
            },
            "sample_history": [],
            "sampling_time": "2023-08-19T19:32:37.408344",
            "user_variable_name": "df",
            "variable_name": "df"
          },
          "21dea416-3eb0-4448-a127-61e84485ffc6": {
            "applied_filters": [],
            "dataframe_info": {
              "default_index_used": false,
              "orig_num_cols": 1,
              "orig_num_rows": 9,
              "orig_size_bytes": 144,
              "truncated_num_cols": 1,
              "truncated_num_rows": 9,
              "truncated_size_bytes": 144,
              "truncated_string_columns": []
            },
            "display_id": "21dea416-3eb0-4448-a127-61e84485ffc6",
            "dx_settings": {
              "ALLOW_NOTEABLE_ATTRS": true,
              "COLUMN_SAMPLING_METHOD": "outer",
              "DB_LOCATION": ":memory:",
              "DEV_MODE": false,
              "DISPLAY_MAX_COLUMNS": 100,
              "DISPLAY_MAX_ROWS": 50000,
              "DISPLAY_MODE": "simple",
              "ENABLE_ASSIGNMENT": true,
              "ENABLE_DATALINK": true,
              "FLATTEN_COLUMN_VALUES": true,
              "FLATTEN_INDEX_VALUES": false,
              "GENERATE_DEX_METADATA": false,
              "HTML_TABLE_SCHEMA": false,
              "LOG_LEVEL": 30,
              "MAX_RENDER_SIZE_BYTES": 104857600,
              "MAX_STRING_LENGTH": 250,
              "NUM_PAST_SAMPLES_TRACKED": 3,
              "RANDOM_STATE": 12648430,
              "RESET_INDEX_VALUES": false,
              "ROW_SAMPLING_METHOD": "random",
              "SAMPLING_FACTOR": 0.1,
              "SAMPLING_METHOD": "random",
              "STRINGIFY_COLUMN_VALUES": true,
              "STRINGIFY_INDEX_VALUES": false
            },
            "sample_history": [],
            "sampling_time": "2023-08-19T20:05:05.355561",
            "user_variable_name": null,
            "variable_name": "unk_dataframe_4ade5474903b48d999fa5d74737cf54b"
          },
          "34165d89-5516-4c6e-9700-cf05840467b4": {
            "applied_filters": [],
            "dataframe_info": {
              "default_index_used": false,
              "orig_num_cols": 1,
              "orig_num_rows": 8,
              "orig_size_bytes": 128,
              "truncated_num_cols": 1,
              "truncated_num_rows": 8,
              "truncated_size_bytes": 128,
              "truncated_string_columns": []
            },
            "display_id": "34165d89-5516-4c6e-9700-cf05840467b4",
            "dx_settings": {
              "ALLOW_NOTEABLE_ATTRS": true,
              "COLUMN_SAMPLING_METHOD": "outer",
              "DB_LOCATION": ":memory:",
              "DEV_MODE": false,
              "DISPLAY_MAX_COLUMNS": 100,
              "DISPLAY_MAX_ROWS": 50000,
              "DISPLAY_MODE": "simple",
              "ENABLE_ASSIGNMENT": true,
              "ENABLE_DATALINK": true,
              "FLATTEN_COLUMN_VALUES": true,
              "FLATTEN_INDEX_VALUES": false,
              "GENERATE_DEX_METADATA": false,
              "HTML_TABLE_SCHEMA": false,
              "LOG_LEVEL": 30,
              "MAX_RENDER_SIZE_BYTES": 104857600,
              "MAX_STRING_LENGTH": 250,
              "NUM_PAST_SAMPLES_TRACKED": 3,
              "RANDOM_STATE": 12648430,
              "RESET_INDEX_VALUES": false,
              "ROW_SAMPLING_METHOD": "random",
              "SAMPLING_FACTOR": 0.1,
              "SAMPLING_METHOD": "random",
              "STRINGIFY_COLUMN_VALUES": true,
              "STRINGIFY_INDEX_VALUES": false
            },
            "sample_history": [],
            "sampling_time": "2023-08-19T20:13:26.712882",
            "user_variable_name": null,
            "variable_name": "unk_dataframe_735d5e96937941a8ae02ef57f98c0b3a"
          }
        },
        "tags": [
          "show_line_numbers"
        ]
      },
      "execution_count": null,
      "source": "#1. Remove columns with name 'zero' in it:\nzero_columns = [col for col in df.columns if 'zero' in col] #list of columns w/ 'zero'\ndf.drop(columns = zero_columns, inplace = True) #drop the list of columns named 'zero' \nassert 'zero' not in df.columns, 'There are still columns named zero' \n\n#2. Change name of column '2urvived' to 'Survived'\ndf.rename(columns = {'2urvived':'Survived'}, inplace = True) #rename the column\nassert '2urvived' not in df.columns, 'There is still a column named 2urvived'\nassert 'Survived' in df.columns, 'There is a column named survived' \n\n#3. Check for null or NaN values in columns. Either ignore, drop, or replace those.\ndf.Embarked.fillna(2,inplace=True) #replace NaN in Embarked column with 2\nassert df.Embarked.isnull().sum()==0, 'There is still NaN in column Embarked'",
      "outputs": []
    },
    {
      "id": "354997fc-e709-4c94-bd2d-befb7dcd98f3",
      "cell_type": "markdown",
      "source": "Question 1: What is the number of passengers by age and sex? Is there a majority population group of passengers by age and sex, if any? \n\nAnswer: Most of the passengers were in between 20s and 30s, and in that age group there were about 250 males and 100 females.  ",
      "metadata": {
        "noteable": {
          "cell_type": "markdown"
        }
      }
    },
    {
      "id": "18d6b1b7-91fb-41f4-81e4-fba57b8b4cfb",
      "cell_type": "code",
      "metadata": {
        "jupyter": {
          "outputs_hidden": false,
          "source_hidden": false
        },
        "noteable": {
          "cell_type": "code",
          "output_collection_id": "e360112c-3cb1-4570-b94e-8351703aa814"
        },
        "ExecuteTime": {
          "end_time": "2023-09-10T21:00:57.377898+00:00",
          "start_time": "2023-09-10T21:00:56.892795+00:00"
        },
        "tags": [
          "show_line_numbers"
        ]
      },
      "execution_count": null,
      "source": "#Get count of passengers' age broken by sex. \n#Use sns.pairplot to get a quick graphs of 'Age' as x and 'Sex' as hue\nsns.histplot(data=df, x='Age', hue='Sex', multiple='dodge')",
      "outputs": []
    },
    {
      "id": "d581a95d-9da5-4b81-8065-87e222af1aca",
      "cell_type": "markdown",
      "source": "Question 2: What is the fare distribution by sex?\n\nAnswer: Both male and female passengers had a simliar trend to their cost of fares; negatively skewed graphs below confirm the vast majority of passengers paid 50 or less.\n",
      "metadata": {
        "noteable": {
          "cell_type": "markdown"
        }
      }
    },
    {
      "id": "38e1768d-3ca6-4508-8a43-c231577b9421",
      "cell_type": "code",
      "metadata": {
        "jupyter": {
          "outputs_hidden": false,
          "source_hidden": false
        },
        "noteable": {
          "cell_type": "code",
          "output_collection_id": "bbfd7f71-3995-4125-a91f-647fd04e7b92"
        },
        "tags": [
          "show_line_numbers"
        ],
        "ExecuteTime": {
          "end_time": "2023-09-10T21:00:58.214358+00:00",
          "start_time": "2023-09-10T21:00:57.531085+00:00"
        }
      },
      "execution_count": null,
      "source": "#sns.histplot(data=df, x='Age', hue='Sex')\ng = sns.FacetGrid(df, col='Sex') \ng.map(sns.histplot,'Fare')  ",
      "outputs": []
    },
    {
      "id": "a3f08f5f-a6f6-4f62-bb4f-e10ba3806b4d",
      "cell_type": "markdown",
      "source": "Question 3: What is the survival rate by gender?\n\nAnswer: The survival rate of males is 13% while that of females is 50%. Females had a higher survivate rate than males.",
      "metadata": {
        "noteable": {
          "cell_type": "markdown"
        }
      }
    },
    {
      "id": "87a7839e-cc35-41af-b544-10575dfebf57",
      "cell_type": "code",
      "metadata": {
        "jupyter": {
          "outputs_hidden": false,
          "source_hidden": false
        },
        "noteable": {
          "cell_type": "code",
          "output_collection_id": "7a23fea6-1c89-4436-92a7-f49346d7d3a2"
        },
        "ExecuteTime": {
          "end_time": "2023-09-10T21:00:58.797012+00:00",
          "start_time": "2023-09-10T21:00:58.474780+00:00"
        },
        "datalink": {
          "243d9e50-f716-4266-adc5-aafb81f4b357": {
            "applied_filters": [],
            "dataframe_info": {
              "default_index_used": true,
              "orig_num_cols": 1,
              "orig_num_rows": 1309,
              "orig_size_bytes": 20944,
              "truncated_num_cols": 1,
              "truncated_num_rows": 1309,
              "truncated_size_bytes": 20944,
              "truncated_string_columns": []
            },
            "display_id": "243d9e50-f716-4266-adc5-aafb81f4b357",
            "dx_settings": {
              "ALLOW_NOTEABLE_ATTRS": true,
              "COLUMN_SAMPLING_METHOD": "outer",
              "DB_LOCATION": ":memory:",
              "DEV_MODE": false,
              "DISPLAY_MAX_COLUMNS": 100,
              "DISPLAY_MAX_ROWS": 50000,
              "DISPLAY_MODE": "simple",
              "ENABLE_ASSIGNMENT": true,
              "ENABLE_DATALINK": true,
              "FLATTEN_COLUMN_VALUES": true,
              "FLATTEN_INDEX_VALUES": false,
              "GENERATE_DEX_METADATA": false,
              "HTML_TABLE_SCHEMA": false,
              "LOG_LEVEL": 30,
              "MAX_RENDER_SIZE_BYTES": 104857600,
              "MAX_STRING_LENGTH": 250,
              "NUM_PAST_SAMPLES_TRACKED": 3,
              "RANDOM_STATE": 12648430,
              "RESET_INDEX_VALUES": false,
              "ROW_SAMPLING_METHOD": "random",
              "SAMPLING_FACTOR": 0.1,
              "SAMPLING_METHOD": "random",
              "STRINGIFY_COLUMN_VALUES": true,
              "STRINGIFY_INDEX_VALUES": false
            },
            "sample_history": [],
            "sampling_time": "2023-08-20T19:22:52.414536",
            "user_variable_name": null,
            "variable_name": "unk_dataframe_7ca1aa73ccfe4543aacfc8586a256345"
          },
          "b91b1df5-c686-4352-8b98-fe8daff76d6d": {
            "applied_filters": [],
            "dataframe_info": {
              "default_index_used": true,
              "orig_num_cols": 1,
              "orig_num_rows": 1309,
              "orig_size_bytes": 11781,
              "truncated_num_cols": 1,
              "truncated_num_rows": 1309,
              "truncated_size_bytes": 11781,
              "truncated_string_columns": []
            },
            "display_id": "b91b1df5-c686-4352-8b98-fe8daff76d6d",
            "dx_settings": {
              "ALLOW_NOTEABLE_ATTRS": true,
              "COLUMN_SAMPLING_METHOD": "outer",
              "DB_LOCATION": ":memory:",
              "DEV_MODE": false,
              "DISPLAY_MAX_COLUMNS": 100,
              "DISPLAY_MAX_ROWS": 50000,
              "DISPLAY_MODE": "simple",
              "ENABLE_ASSIGNMENT": true,
              "ENABLE_DATALINK": true,
              "FLATTEN_COLUMN_VALUES": true,
              "FLATTEN_INDEX_VALUES": false,
              "GENERATE_DEX_METADATA": false,
              "HTML_TABLE_SCHEMA": false,
              "LOG_LEVEL": 30,
              "MAX_RENDER_SIZE_BYTES": 104857600,
              "MAX_STRING_LENGTH": 250,
              "NUM_PAST_SAMPLES_TRACKED": 3,
              "RANDOM_STATE": 12648430,
              "RESET_INDEX_VALUES": false,
              "ROW_SAMPLING_METHOD": "random",
              "SAMPLING_FACTOR": 0.1,
              "SAMPLING_METHOD": "random",
              "STRINGIFY_COLUMN_VALUES": true,
              "STRINGIFY_INDEX_VALUES": false
            },
            "sample_history": [],
            "sampling_time": "2023-08-20T19:23:02.851225",
            "user_variable_name": null,
            "variable_name": "unk_dataframe_7cff492a120641f08d0be9ea0c2df7bf"
          }
        },
        "tags": [
          "show_line_numbers"
        ]
      },
      "execution_count": null,
      "source": "#male \ntotal_male_survived = df[(df['Sex']==0) & (df['Survived']==1)].shape[0]\ntotal_male = df[df['Sex']==0].shape[0]\nsur_rate_male = total_male_survived/total_male\npie_data_male=[sur_rate_male,1-sur_rate_male]\npie_data_male_key=['Survived','Total Males']\nplt.title(\"Survival Rate of Males\")\nprint (f\"Male survival rate: {sur_rate_male}\")\nplt.pie(pie_data_male, labels=pie_data_male_key)\nplt.show()\n\n#female\ntotal_fem_survived = df[(df['Sex']==1) & (df['Survived']==1)].shape[0]\ntotal_fem = df[df['Sex']==1].shape[0]\nsur_rate_female = total_fem_survived/total_fem\npie_data_female=[sur_rate_female, 1-sur_rate_female]\npie_data_female_key=['Survived','Total Females']\nplt.title('Survival Rate of Females')\nprint (f\"Female survial rate: {sur_rate_female}\")\nplt.pie(pie_data_female, labels=pie_data_female_key)\nplt.show()",
      "outputs": []
    },
    {
      "id": "a21e5ee7-d9d0-4f86-8dd9-27c36e301603",
      "cell_type": "markdown",
      "source": "Question 4: What was the rate of passengers per class and the passengers' survival rates by the class?\n\nAnswer: For the rate of passengers per class and their survival rates by the class, the 3rd class had the majority of passengers of 54% while the 1st and 2nd class had about the same percentage of passengers, 25% and 21%, respectively. The passengers' survival rates had a strong positive correlation with the passengers' class; the passengers in the first class had the highest survival rates of $42% versus the passengers in the second class had the next highest survival rates of 31%, while the passengers in the third class had the lowest survival rates of 17%.\n",
      "metadata": {
        "noteable": {
          "cell_type": "markdown"
        }
      }
    },
    {
      "id": "d60db4f1-365c-45dd-949b-547e56ca72b0",
      "cell_type": "code",
      "metadata": {
        "jupyter": {
          "outputs_hidden": false,
          "source_hidden": false
        },
        "noteable": {
          "cell_type": "code",
          "output_collection_id": "acc04b45-bbce-4b02-ac44-5d7f7fc1564f"
        },
        "tags": [
          "show_line_numbers"
        ],
        "ExecuteTime": {
          "end_time": "2023-09-10T21:00:59.275274+00:00",
          "start_time": "2023-09-10T21:00:59.112710+00:00"
        },
        "datalink": {
          "b4a4ed41-29a3-4a2b-8d0c-d2fe424d2be6": {
            "applied_filters": [],
            "dataframe_info": {
              "default_index_used": true,
              "orig_num_cols": 1,
              "orig_num_rows": 1309,
              "orig_size_bytes": 20944,
              "truncated_num_cols": 1,
              "truncated_num_rows": 1309,
              "truncated_size_bytes": 20944,
              "truncated_string_columns": []
            },
            "display_id": "b4a4ed41-29a3-4a2b-8d0c-d2fe424d2be6",
            "dx_settings": {
              "ALLOW_NOTEABLE_ATTRS": true,
              "COLUMN_SAMPLING_METHOD": "outer",
              "DB_LOCATION": ":memory:",
              "DEV_MODE": false,
              "DISPLAY_MAX_COLUMNS": 100,
              "DISPLAY_MAX_ROWS": 50000,
              "DISPLAY_MODE": "simple",
              "ENABLE_ASSIGNMENT": true,
              "ENABLE_DATALINK": true,
              "FLATTEN_COLUMN_VALUES": true,
              "FLATTEN_INDEX_VALUES": false,
              "GENERATE_DEX_METADATA": false,
              "HTML_TABLE_SCHEMA": false,
              "LOG_LEVEL": 30,
              "MAX_RENDER_SIZE_BYTES": 104857600,
              "MAX_STRING_LENGTH": 250,
              "NUM_PAST_SAMPLES_TRACKED": 3,
              "RANDOM_STATE": 12648430,
              "RESET_INDEX_VALUES": false,
              "ROW_SAMPLING_METHOD": "random",
              "SAMPLING_FACTOR": 0.1,
              "SAMPLING_METHOD": "random",
              "STRINGIFY_COLUMN_VALUES": true,
              "STRINGIFY_INDEX_VALUES": false
            },
            "sample_history": [],
            "sampling_time": "2023-08-24T20:43:54.384955",
            "user_variable_name": null,
            "variable_name": "unk_dataframe_011f8fac6693467bb82279badc798897"
          },
          "6802f264-1cb7-4369-820a-cf619940df4c": {
            "applied_filters": [],
            "dataframe_info": {
              "default_index_used": true,
              "orig_num_cols": 1,
              "orig_num_rows": 3,
              "orig_size_bytes": 48,
              "truncated_num_cols": 1,
              "truncated_num_rows": 3,
              "truncated_size_bytes": 48,
              "truncated_string_columns": []
            },
            "display_id": "6802f264-1cb7-4369-820a-cf619940df4c",
            "dx_settings": {
              "ALLOW_NOTEABLE_ATTRS": true,
              "COLUMN_SAMPLING_METHOD": "outer",
              "DB_LOCATION": ":memory:",
              "DEV_MODE": false,
              "DISPLAY_MAX_COLUMNS": 100,
              "DISPLAY_MAX_ROWS": 50000,
              "DISPLAY_MODE": "simple",
              "ENABLE_ASSIGNMENT": true,
              "ENABLE_DATALINK": true,
              "FLATTEN_COLUMN_VALUES": true,
              "FLATTEN_INDEX_VALUES": false,
              "GENERATE_DEX_METADATA": false,
              "HTML_TABLE_SCHEMA": false,
              "LOG_LEVEL": 30,
              "MAX_RENDER_SIZE_BYTES": 104857600,
              "MAX_STRING_LENGTH": 250,
              "NUM_PAST_SAMPLES_TRACKED": 3,
              "RANDOM_STATE": 12648430,
              "RESET_INDEX_VALUES": false,
              "ROW_SAMPLING_METHOD": "random",
              "SAMPLING_FACTOR": 0.1,
              "SAMPLING_METHOD": "random",
              "STRINGIFY_COLUMN_VALUES": true,
              "STRINGIFY_INDEX_VALUES": false
            },
            "sample_history": [],
            "sampling_time": "2023-08-24T20:44:56.002445",
            "user_variable_name": null,
            "variable_name": "unk_dataframe_98919e84b85142ff8632c2445182efc1"
          },
          "44d3afd5-a74b-4165-a339-5686a88969ca": {
            "applied_filters": [],
            "dataframe_info": {
              "default_index_used": true,
              "orig_num_cols": 1,
              "orig_num_rows": 3,
              "orig_size_bytes": 48,
              "truncated_num_cols": 1,
              "truncated_num_rows": 3,
              "truncated_size_bytes": 48,
              "truncated_string_columns": []
            },
            "display_id": "44d3afd5-a74b-4165-a339-5686a88969ca",
            "dx_settings": {
              "ALLOW_NOTEABLE_ATTRS": true,
              "COLUMN_SAMPLING_METHOD": "outer",
              "DB_LOCATION": ":memory:",
              "DEV_MODE": false,
              "DISPLAY_MAX_COLUMNS": 100,
              "DISPLAY_MAX_ROWS": 50000,
              "DISPLAY_MODE": "simple",
              "ENABLE_ASSIGNMENT": true,
              "ENABLE_DATALINK": true,
              "FLATTEN_COLUMN_VALUES": true,
              "FLATTEN_INDEX_VALUES": false,
              "GENERATE_DEX_METADATA": false,
              "HTML_TABLE_SCHEMA": false,
              "LOG_LEVEL": 30,
              "MAX_RENDER_SIZE_BYTES": 104857600,
              "MAX_STRING_LENGTH": 250,
              "NUM_PAST_SAMPLES_TRACKED": 3,
              "RANDOM_STATE": 12648430,
              "RESET_INDEX_VALUES": false,
              "ROW_SAMPLING_METHOD": "random",
              "SAMPLING_FACTOR": 0.1,
              "SAMPLING_METHOD": "random",
              "STRINGIFY_COLUMN_VALUES": true,
              "STRINGIFY_INDEX_VALUES": false
            },
            "sample_history": [],
            "sampling_time": "2023-08-24T20:45:02.067121",
            "user_variable_name": null,
            "variable_name": "unk_dataframe_f02a12ef4ad140829eb73ab28ae29c1a"
          },
          "be88192e-7799-4e9d-9adf-cbb0d0daf4b5": {
            "applied_filters": [],
            "dataframe_info": {
              "default_index_used": true,
              "orig_num_cols": 1,
              "orig_num_rows": 1309,
              "orig_size_bytes": 20944,
              "truncated_num_cols": 1,
              "truncated_num_rows": 1309,
              "truncated_size_bytes": 20944,
              "truncated_string_columns": []
            },
            "display_id": "be88192e-7799-4e9d-9adf-cbb0d0daf4b5",
            "dx_settings": {
              "ALLOW_NOTEABLE_ATTRS": true,
              "COLUMN_SAMPLING_METHOD": "outer",
              "DB_LOCATION": ":memory:",
              "DEV_MODE": false,
              "DISPLAY_MAX_COLUMNS": 100,
              "DISPLAY_MAX_ROWS": 50000,
              "DISPLAY_MODE": "simple",
              "ENABLE_ASSIGNMENT": true,
              "ENABLE_DATALINK": true,
              "FLATTEN_COLUMN_VALUES": true,
              "FLATTEN_INDEX_VALUES": false,
              "GENERATE_DEX_METADATA": false,
              "HTML_TABLE_SCHEMA": false,
              "LOG_LEVEL": 30,
              "MAX_RENDER_SIZE_BYTES": 104857600,
              "MAX_STRING_LENGTH": 250,
              "NUM_PAST_SAMPLES_TRACKED": 3,
              "RANDOM_STATE": 12648430,
              "RESET_INDEX_VALUES": false,
              "ROW_SAMPLING_METHOD": "random",
              "SAMPLING_FACTOR": 0.1,
              "SAMPLING_METHOD": "random",
              "STRINGIFY_COLUMN_VALUES": true,
              "STRINGIFY_INDEX_VALUES": false
            },
            "sample_history": [],
            "sampling_time": "2023-09-06T22:47:44.083862",
            "user_variable_name": null,
            "variable_name": "unk_dataframe_f0e11fe4eb724c01adc9ce3f6b269f8b"
          }
        }
      },
      "execution_count": null,
      "source": "print(df.Pclass.value_counts())\nprint(df.Pclass.value_counts(normalize=True))\nprint (df.groupby('Pclass').sum()['Survived'])\nsur_rate_1st=136/323\nsur_rate_2nd=87/277\nsur_rate_3rd=119/709\nx=[sur_rate_1st, sur_rate_2nd, sur_rate_3rd]\ny=df.Pclass\ndf_sur_rate = pd.DataFrame({sur_rate_1st, sur_rate_2nd, sur_rate_3rd}, index=['1st','2nd','3rd'])\nprint(df.groupby('Pclass').mean()['Survived'])",
      "outputs": []
    },
    {
      "id": "7e17ff1b-7c21-4e2c-9348-20d8fc388a45",
      "cell_type": "markdown",
      "source": "Question 5: Were people who were alone more likely to survive than people who were accompanied by their parents and/or siblings?\n\nAnswer: People who were accompanied by their parents and/or siblings had higher survival rates than people who were alone (34% vs. 20%). ",
      "metadata": {
        "noteable": {
          "cell_type": "markdown"
        }
      }
    },
    {
      "id": "82362e77-c790-4d2a-9f58-9ca8ac111170",
      "cell_type": "code",
      "metadata": {
        "jupyter": {
          "outputs_hidden": false,
          "source_hidden": false
        },
        "noteable": {
          "cell_type": "code",
          "output_collection_id": "af89c7f7-df13-4a9c-a2ae-b370e2643bef"
        },
        "ExecuteTime": {
          "end_time": "2023-09-10T21:00:59.440239+00:00",
          "start_time": "2023-09-10T21:00:59.281937+00:00"
        },
        "tags": [
          "show_line_numbers"
        ]
      },
      "execution_count": null,
      "source": "df['isAlone']=((df['Parch']+df['sibsp'])==0).astype(int).astype(str)\n# print(df['isAlone'])\nprint (df.groupby('isAlone').mean()['Survived'])",
      "outputs": []
    },
    {
      "id": "b84e1f5f-a3f2-4218-9796-fa6642112b4d",
      "cell_type": "markdown",
      "source": "Question 6: What was the fare distribution? \n\nAnswer: Almost all the passengers purchased the cheapest fare. ",
      "metadata": {
        "noteable": {
          "cell_type": "markdown"
        }
      }
    },
    {
      "id": "13258138-40a4-4f5a-9482-69b14907b8fb",
      "cell_type": "markdown",
      "source": "Question 7: Divide fare distrubiton by price ranges. \n\nAnswer: ~94% of passengers purchased cheapest fares under 100; ~4% purchased fares between 100 to 200; ~2% purchased fares between 200 to 300; and less than 1% purchased the most expensive fares costing over 500.    ",
      "metadata": {
        "noteable": {
          "cell_type": "markdown"
        }
      }
    },
    {
      "id": "cd2cba6d-9eb8-4e15-b707-bdd7a2fdb976",
      "cell_type": "code",
      "metadata": {
        "jupyter": {
          "outputs_hidden": false,
          "source_hidden": false
        },
        "noteable": {
          "cell_type": "code",
          "output_collection_id": "c26a5f84-e264-4259-a316-01f83553386f"
        },
        "ExecuteTime": {
          "end_time": "2023-09-10T21:01:01.399675+00:00",
          "start_time": "2023-09-10T21:01:01.240894+00:00"
        },
        "datalink": {
          "1295d533-add6-43f5-9f9b-79a29f2902cd": {
            "applied_filters": [],
            "dataframe_info": {
              "default_index_used": true,
              "orig_num_cols": 1,
              "orig_num_rows": 1309,
              "orig_size_bytes": 20944,
              "truncated_num_cols": 1,
              "truncated_num_rows": 1309,
              "truncated_size_bytes": 20944,
              "truncated_string_columns": []
            },
            "display_id": "1295d533-add6-43f5-9f9b-79a29f2902cd",
            "dx_settings": {
              "ALLOW_NOTEABLE_ATTRS": true,
              "COLUMN_SAMPLING_METHOD": "outer",
              "DB_LOCATION": ":memory:",
              "DEV_MODE": false,
              "DISPLAY_MAX_COLUMNS": 100,
              "DISPLAY_MAX_ROWS": 50000,
              "DISPLAY_MODE": "simple",
              "ENABLE_ASSIGNMENT": true,
              "ENABLE_DATALINK": true,
              "FLATTEN_COLUMN_VALUES": true,
              "FLATTEN_INDEX_VALUES": false,
              "GENERATE_DEX_METADATA": false,
              "HTML_TABLE_SCHEMA": false,
              "LOG_LEVEL": 30,
              "MAX_RENDER_SIZE_BYTES": 104857600,
              "MAX_STRING_LENGTH": 250,
              "NUM_PAST_SAMPLES_TRACKED": 3,
              "RANDOM_STATE": 12648430,
              "RESET_INDEX_VALUES": false,
              "ROW_SAMPLING_METHOD": "random",
              "SAMPLING_FACTOR": 0.1,
              "SAMPLING_METHOD": "random",
              "STRINGIFY_COLUMN_VALUES": true,
              "STRINGIFY_INDEX_VALUES": false
            },
            "sample_history": [],
            "sampling_time": "2023-08-24T21:24:22.573193",
            "user_variable_name": null,
            "variable_name": "unk_dataframe_156cf0bcfdeb44a1b9080263c31fede0"
          }
        },
        "tags": [
          "show_line_numbers"
        ]
      },
      "execution_count": null,
      "source": "#Feature Engineering: creating more new useful features than already existing features \n#how to use .apply\ndef func(inp):\n    if 0<=inp<=100:\n        return 'under 100'\n    elif 100<inp<=200:\n        return '100 to 200'\n    elif 200<inp<=300:\n        return '200 to 300'\n    elif 300<inp<=400:\n        return '300 to 400'\n    elif 400<inp<=500:\n        return '400 to 500'\n    else:\n        return 'Over 500'\n\ndf['Fare_buckets']=df['Fare'].apply(func)\nprint(df['Fare_buckets'].value_counts(normalize=True))        ",
      "outputs": []
    },
    {
      "id": "7b959929-468c-47b9-a48c-b198b0c34e8b",
      "cell_type": "markdown",
      "source": "Question 8: Are there any coorelation between the two variables? \n\nAnswer: There is no correlation between the fares and ports. ",
      "metadata": {
        "noteable": {
          "cell_type": "markdown"
        }
      }
    },
    {
      "id": "b29bd8a0-9fe0-4754-8463-9060926cdaed",
      "cell_type": "code",
      "metadata": {
        "jupyter": {
          "outputs_hidden": false,
          "source_hidden": false
        },
        "noteable": {
          "cell_type": "code",
          "output_collection_id": "f411889b-3b8c-4775-8c70-841456990a41"
        },
        "tags": [
          "show_line_numbers"
        ],
        "ExecuteTime": {
          "end_time": "2023-09-10T21:01:02.752507+00:00",
          "start_time": "2023-09-10T21:01:02.593886+00:00"
        }
      },
      "execution_count": null,
      "source": "#fare distribution by port and interpretation\nprint(df.columns)\nprint (df.groupby(['Fare_buckets','Embarked']).mean()['Fare'])",
      "outputs": []
    },
    {
      "id": "da07adb1-1175-4cbf-90e1-144ebd0d0b18",
      "cell_type": "markdown",
      "source": "Question 9: Were people who are travelling alone more likely to be in a certain class compare to those travelling with family? \n\nAnswer: There is no correlation between the people who are travelling alone and the passengers' class.  ",
      "metadata": {
        "noteable": {
          "cell_type": "markdown"
        }
      }
    },
    {
      "id": "74ef6475-7c8c-4229-8a9f-a720a8eb859f",
      "cell_type": "code",
      "metadata": {
        "jupyter": {
          "outputs_hidden": false,
          "source_hidden": false
        },
        "noteable": {
          "cell_type": "code",
          "output_collection_id": "a5fd0bd2-19ce-49bc-bbdc-c1aa45a00de0"
        },
        "tags": [
          "show_line_numbers"
        ],
        "ExecuteTime": {
          "end_time": "2023-09-10T21:01:03.787852+00:00",
          "start_time": "2023-09-10T21:01:03.630479+00:00"
        },
        "datalink": {
          "68c2144f-73e6-4d60-b16f-0b0c87cb0e03": {
            "applied_filters": [],
            "dataframe_info": {
              "default_index_used": false,
              "orig_num_cols": 1,
              "orig_num_rows": 2,
              "orig_size_bytes": 32,
              "truncated_num_cols": 1,
              "truncated_num_rows": 2,
              "truncated_size_bytes": 32,
              "truncated_string_columns": []
            },
            "display_id": "68c2144f-73e6-4d60-b16f-0b0c87cb0e03",
            "dx_settings": {
              "ALLOW_NOTEABLE_ATTRS": true,
              "COLUMN_SAMPLING_METHOD": "outer",
              "DB_LOCATION": ":memory:",
              "DEV_MODE": false,
              "DISPLAY_MAX_COLUMNS": 100,
              "DISPLAY_MAX_ROWS": 50000,
              "DISPLAY_MODE": "simple",
              "ENABLE_ASSIGNMENT": true,
              "ENABLE_DATALINK": true,
              "FLATTEN_COLUMN_VALUES": true,
              "FLATTEN_INDEX_VALUES": false,
              "GENERATE_DEX_METADATA": false,
              "HTML_TABLE_SCHEMA": false,
              "LOG_LEVEL": 30,
              "MAX_RENDER_SIZE_BYTES": 104857600,
              "MAX_STRING_LENGTH": 250,
              "NUM_PAST_SAMPLES_TRACKED": 3,
              "RANDOM_STATE": 12648430,
              "RESET_INDEX_VALUES": false,
              "ROW_SAMPLING_METHOD": "random",
              "SAMPLING_FACTOR": 0.1,
              "SAMPLING_METHOD": "random",
              "STRINGIFY_COLUMN_VALUES": true,
              "STRINGIFY_INDEX_VALUES": false
            },
            "sample_history": [],
            "sampling_time": "2023-08-26T18:55:32.617358",
            "user_variable_name": null,
            "variable_name": "unk_dataframe_c9f3a444607848c499274578f74d4f03"
          }
        }
      },
      "execution_count": null,
      "source": "#Were people traveling alone more likely to be in a certain class compared to those traveling with family?\n#print (df.groupby(['Pclass', 'isAlone'].sum()['Survived'].shape(0))\n# print (df.groupby(['Pclass','isAlone']).count())\nprint (df.groupby(['isAlone'])['Pclass'].value_counts())",
      "outputs": []
    },
    {
      "id": "5b6f7b8b-0465-47be-b372-e3f8a2921355",
      "cell_type": "markdown",
      "source": "Question 10: What are the survival rates by  both the gender and the age group (e.g. survival rates of young males vs. survival rates of middle age females)? \n\nAnswer: To find survival rates by both the gender and the age, I first categorized passengers' age as following: older than or equal to 65 as old, between 25 years and 65 as middle age, younger than 25 as young. The middle age female group had the most number of survivors, 148, while the old female group had the least number of survivors, 0. The minimum age of the passengers was less than a year old, the oldest age was 80, and the average age was 30.       ",
      "metadata": {
        "noteable": {
          "cell_type": "markdown"
        }
      }
    },
    {
      "id": "f9c164b5-c0db-4bac-92c0-8eb14b1a0a93",
      "cell_type": "code",
      "metadata": {
        "jupyter": {
          "outputs_hidden": false,
          "source_hidden": false
        },
        "noteable": {
          "cell_type": "code",
          "output_collection_id": "3e335bea-0532-4dbd-98c5-20fc697899b7"
        },
        "tags": [
          "show_line_numbers"
        ],
        "ExecuteTime": {
          "end_time": "2023-09-10T21:01:05.573246+00:00",
          "start_time": "2023-09-10T21:01:05.141084+00:00"
        }
      },
      "execution_count": null,
      "source": "def age_fun(inp):\n    if inp >=65:\n        return 'Old'\n    elif inp >=25: \n        return 'Middle Age'\n    else: \n        return 'Young'\n    \n\ndef func1(age,gender):\n    if gender==1:\n        return age_fun(age)+' '+'female'\n    else:\n        return age_fun(age)+' '+'male'\n  \ndf['Age_Sex'] = df[['Age','Sex']].apply(lambda row: func1(row['Age'],row['Sex']),axis=1) \nprint(df.groupby('Age_Sex').sum()['Survived'])\nplt.figure(figsize=(12,16))\nsns.histplot(data=df,x='Age_Sex')\n\n#print(df['Age_Sex'].value_counts(normalize=True)) #normalize turn it to % \n# print(df['Age_Sex'].value_counts())    \n# print(df[(df['Age_Sex']) & (df['Survived']==1)].value_counts())    \n    \n#lambda is a way to make functions anonymous\n\n#lambda is used as an interface to properly ppass the row arguments to dummyfunc\n# print(df[['Age','Sex']].apply(lambda row:dummyfunc(row['Age'],row['Sex'])))\n",
      "outputs": []
    },
    {
      "id": "e0ff9a5e-4b9c-4ca6-a04c-5d7fb7e3b81f",
      "cell_type": "code",
      "metadata": {
        "jupyter": {
          "outputs_hidden": false,
          "source_hidden": false
        },
        "noteable": {
          "cell_type": "code",
          "output_collection_id": "331600f4-b66d-4a15-8d6d-49f9d1999402"
        },
        "tags": [
          "show_line_numbers"
        ],
        "ExecuteTime": {
          "end_time": "2023-09-10T21:01:06.255587+00:00",
          "start_time": "2023-09-10T21:01:06.098584+00:00"
        }
      },
      "execution_count": null,
      "source": "age_min = df['Age'].min()\nage_max = df['Age'].max()\nage_mean = df['Age'].mean()\nprint (f'this is min age {age_min}')\nprint (f'this is max age {age_max}')\nprint (f'this is average age {age_mean}')",
      "outputs": []
    }
  ]
}